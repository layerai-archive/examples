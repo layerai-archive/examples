{
 "cells": [
  {
   "cell_type": "markdown",
   "id": "WLAqrwJHNyEJ",
   "metadata": {
    "id": "WLAqrwJHNyEJ"
   },
   "source": [
    "# Getting started with Layer\n",
    "\n",
    "[![Open in Layer](https://app.layer.ai/assets/badge.svg)](https://app.layer.ai/layer/titanic) [![Open in Colab](https://colab.research.google.com/assets/colab-badge.svg)](https://colab.research.google.com/github/layerai/examples/blob/main/titanic/Getting_Started_With_Layer.ipynb) [![Layer Examples Github](https://badgen.net/badge/icon/github?icon=github&label)](https://github.com/layerai/examples/tree/main/titanic)\n",
    "\n",
    "In this quick walkthrough, we will train a machine learning model to predict the survivors of the Titanic disaster and deploy it for real-time inference using Layer.\n"
   ]
  },
  {
   "cell_type": "markdown",
   "id": "pzfLqSWG5ylG",
   "metadata": {
    "id": "pzfLqSWG5ylG"
   },
   "source": [
    "## Installation\n"
   ]
  },
  {
   "cell_type": "code",
   "execution_count": null,
   "id": "42a92be3-9c8d-482e-b84e-ab53f60f621c",
   "metadata": {
    "id": "42a92be3-9c8d-482e-b84e-ab53f60f621c"
   },
   "outputs": [],
   "source": [
    "!pip install -U layer -q\n",
    "!pip install -U ipython -q"
   ]
  },
  {
   "cell_type": "code",
   "execution_count": null,
   "id": "M1yMtkp8Uaiu",
   "metadata": {
    "id": "M1yMtkp8Uaiu"
   },
   "outputs": [],
   "source": [
    "from layer.decorators import dataset, model,resources\n",
    "from sklearn.ensemble import RandomForestClassifier\n",
    "from sklearn.model_selection import train_test_split\n",
    "from sklearn.metrics import accuracy_score\n",
    "import pandas as pd\n",
    "import numpy as np\n",
    "import layer"
   ]
  },
  {
   "cell_type": "markdown",
   "id": "3v42utb16Fl9",
   "metadata": {
    "id": "3v42utb16Fl9"
   },
   "source": [
    "## Register and Login\n",
    "\n",
    "To start using Layer, you have to register and login. Run the following cell, click the link, register and paste the code in the input"
   ]
  },
  {
   "cell_type": "code",
   "execution_count": null,
   "id": "5b074b9f-eca0-4c30-9b6b-1b181948a4b5",
   "metadata": {
    "id": "5b074b9f-eca0-4c30-9b6b-1b181948a4b5"
   },
   "outputs": [],
   "source": [
    "layer.login()"
   ]
  },
  {
   "cell_type": "markdown",
   "id": "O_IwRmvBU1TJ",
   "metadata": {
    "id": "O_IwRmvBU1TJ"
   },
   "source": [
    "## Inititialize Your First Layer Project\n",
    "\n",
    "It's time to create your first Layer Project. You can find your created project at [https://app.layer.ai](https://app.layer.ai)"
   ]
  },
  {
   "cell_type": "code",
   "execution_count": null,
   "id": "eLK78Wc7VBZr",
   "metadata": {
    "colab": {
     "base_uri": "https://localhost:8080/"
    },
    "id": "eLK78Wc7VBZr",
    "outputId": "b0cdaa69-e2f0-48b5-fcda-5ce22c8eda66"
   },
   "outputs": [],
   "source": [
    "layer.init(\"titanic\")"
   ]
  },
  {
   "cell_type": "markdown",
   "id": "HL9bECPb6U4Z",
   "metadata": {
    "id": "HL9bECPb6U4Z"
   },
   "source": [
    "## Build Passengers Dataset\n",
    "\n",
    "Let's start building our data to train our model. We will be using the [Kaggle Titanic Dataset](https://www.kaggle.com/c/titanic) which consists two datasets:\n",
    "\n",
    "- train.csv\n",
    "- test.csv\n",
    "\n",
    "Let's clone the [Layer Titanic Project](https://github.com/layerai/examples/tree/main/titanic) repo which has these datasets."
   ]
  },
  {
   "cell_type": "code",
   "execution_count": null,
   "id": "Wx4qCBKoSjoX",
   "metadata": {
    "id": "Wx4qCBKoSjoX"
   },
   "outputs": [],
   "source": [
    "!git clone https://github.com/layerai/examples\n",
    "!mv ./examples/titanic/* ./"
   ]
  },
  {
   "cell_type": "markdown",
   "id": "0tBZz52ZUlYD",
   "metadata": {
    "id": "0tBZz52ZUlYD"
   },
   "source": [
    "Ok, we have our data ready in the `./data` folder. Now we are going to be merging these datasets and transform it so that we can feed it to our model."
   ]
  },
  {
   "cell_type": "code",
   "execution_count": null,
   "id": "c8816120-2343-49be-93da-3ffbb1d328d1",
   "metadata": {
    "id": "c8816120-2343-49be-93da-3ffbb1d328d1"
   },
   "outputs": [],
   "source": [
    "def clean_gender(sex):\n",
    "    result = 0\n",
    "    if sex == \"female\":\n",
    "        result = 0\n",
    "    elif sex == \"male\":\n",
    "        result = 1\n",
    "    return result\n",
    "\n",
    "\n",
    "def clean_age(data):\n",
    "    age = data[0]\n",
    "    pclass = data[1]\n",
    "    if pd.isnull(age):\n",
    "        if pclass == 1:\n",
    "            return 37\n",
    "        elif pclass == 2:\n",
    "            return 29\n",
    "        else:\n",
    "            return 24\n",
    "    else:\n",
    "        return age  \n",
    "\n",
    "@dataset(\"passengers\")\n",
    "@resources(path=\"./data\")\n",
    "def build_passengers_dataset():\n",
    "  train_df = pd.read_csv(\"data/train.csv\")\n",
    "  test_df = pd.read_csv(\"data/test.csv\")\n",
    "  df = train_df.append(test_df)\n",
    "\n",
    "  df['Sex'] = df['Sex'].apply(clean_gender)\n",
    "  df['Age'] = df[['Age', 'Pclass']].apply(clean_age, axis=1)\n",
    "  df = df.drop([\"PassengerId\", \"Name\", \"Cabin\", \"Ticket\", \"Embarked\"], axis=1)\n",
    "\n",
    "  return df"
   ]
  },
  {
   "cell_type": "code",
   "execution_count": null,
   "id": "t99DdLbfelD8",
   "metadata": {
    "id": "t99DdLbfelD8"
   },
   "outputs": [],
   "source": [
    "# You can run this function in your local for debugging. \n",
    "# build_passengers_dataset()\n",
    "\n",
    "# When ready, you can pass the function to Layer to build your dataset\n",
    "layer.run([build_passengers_dataset])"
   ]
  },
  {
   "cell_type": "markdown",
   "id": "CDLCvsnxWrxG",
   "metadata": {
    "id": "CDLCvsnxWrxG"
   },
   "source": [
    "## Train Survival Model"
   ]
  },
  {
   "cell_type": "markdown",
   "id": "acd33b6e-38fe-4090-9289-89ef9503425f",
   "metadata": {},
   "source": [
    "We will be training a `RandomForestClassifier` to predict the survivors. As you can see the following function is a simple training function. We just added the [@model](https://docs.app.layer.ai/docs/sdk-library/model-decorator) decorator to integrate Layer into our pipeline"
   ]
  },
  {
   "cell_type": "code",
   "execution_count": null,
   "id": "Qb2lpbhIWrRF",
   "metadata": {},
   "outputs": [],
   "source": [
    "@model(name='survival_model')\n",
    "def train():\n",
    "    parameters = {\n",
    "        \"test_size\": 0.25,\n",
    "        \"random_state\": 42,\n",
    "        \"n_estimators\": 100\n",
    "    }\n",
    "    \n",
    "    # You can log parameters to compare your experiments later\n",
    "    layer.log(parameters)\n",
    "\n",
    "    # You can now load the `Passengers` training dataset from Layer\n",
    "    df = layer.get_dataset(\"passengers\").to_pandas()\n",
    "    \n",
    "    df.dropna(inplace=True)\n",
    "    X = df.drop([\"Survived\"], axis=1)\n",
    "    y = df[\"Survived\"]\n",
    "    X_train, X_test, y_train, y_test = train_test_split(X, y, test_size=parameters[\"test_size\"], random_state=parameters[\"random_state\"])\n",
    "    \n",
    "    random_forest = RandomForestClassifier(n_estimators=parameters[\"n_estimators\"])\n",
    "    random_forest.fit(X_train, y_train)\n",
    "    \n",
    "    # Here we log the accuracy\n",
    "    y_pred = random_forest.predict(X_test)\n",
    "    layer.log({\"accuracy\":accuracy_score(y_test, y_pred)})\n",
    "    \n",
    "    # You can just return the model and Layer will semantically version\n",
    "    # your model and store it under your project\n",
    "    return random_forest"
   ]
  },
  {
   "cell_type": "code",
   "execution_count": null,
   "id": "ErPTL-GPerQn",
   "metadata": {
    "id": "ErPTL-GPerQn"
   },
   "outputs": [],
   "source": [
    "# You can train your model in your local. Layer will log the parameters and metrics and\n",
    "# upload the trained model to help you track your experiments, even the local ones\n",
    "# train()\n",
    "\n",
    "# When ready, just pass your training function to Layer\n",
    "layer.run([train])"
   ]
  },
  {
   "cell_type": "markdown",
   "id": "sfBEUzvS7oVY",
   "metadata": {
    "id": "sfBEUzvS7oVY"
   },
   "source": [
    "## Results\n",
    "\n",
    "After you train your model, you can see all your datasets and model experiments here in the Layer interface\n",
    "\n",
    "https://app.layer.ai/\n",
    "\n",
    "Or you can re-use one of the entities you have created."
   ]
  },
  {
   "cell_type": "markdown",
   "id": "qlGze9YFeDjy",
   "metadata": {
    "id": "qlGze9YFeDjy"
   },
   "source": [
    "### Fetching an ML model from Layer\n",
    "\n",
    "After you build the Layer Project, you can fetch your trained models from Layer with simple calling `layer.get_model(\"MODEL_NAME\")`\n",
    "\n",
    "If you [make your project public](https://docs.app.layer.ai/docs/projects/create-project), anyone even without a Layer account can fetch your models for their own use."
   ]
  },
  {
   "cell_type": "code",
   "execution_count": null,
   "id": "A2d-LGb99Jrr",
   "metadata": {
    "colab": {
     "base_uri": "https://localhost:8080/"
    },
    "id": "A2d-LGb99Jrr",
    "outputId": "ed7b05d5-a66f-4acf-aa29-646eeeb0cc62"
   },
   "outputs": [],
   "source": [
    "survival_model = layer.get_model(\"survival_model\").get_train()\n",
    "survival_model"
   ]
  },
  {
   "cell_type": "markdown",
   "id": "ztVBdCULd-oI",
   "metadata": {
    "id": "ztVBdCULd-oI"
   },
   "source": [
    "### Fetching a dataset from Layer\n",
    "\n",
    "Just like the models, you can fetch a dataset that you have built under a Layer Project. Anyone can fetch and use your dataset if your project is public"
   ]
  },
  {
   "cell_type": "code",
   "execution_count": null,
   "id": "9KzdA_66_FYw",
   "metadata": {
    "id": "9KzdA_66_FYw"
   },
   "outputs": [],
   "source": [
    "df = layer.get_dataset(\"passengers\").to_pandas()\n",
    "df.head()"
   ]
  },
  {
   "cell_type": "markdown",
   "id": "L6WSA7iGf2JA",
   "metadata": {
    "id": "L6WSA7iGf2JA"
   },
   "source": [
    "Now, let's predict the survival probability of a passenger with the model and dataset we have trained and registered to Layer."
   ]
  },
  {
   "cell_type": "code",
   "execution_count": null,
   "id": "4Ngx4SJb9ZSx",
   "metadata": {},
   "outputs": [],
   "source": [
    "passenger = df[['Pclass', 'Sex', 'Age', 'SibSp', 'Parch', 'Fare']]\n",
    "survival_probability = survival_model.predict_proba(passenger.sample())[0][1]\n",
    "print(f\"Survival Probability: {survival_probability:.2%}\")"
   ]
  },
  {
   "cell_type": "markdown",
   "id": "Z8ZnD8htas_-",
   "metadata": {
    "id": "Z8ZnD8htas_-"
   },
   "source": [
    "## Where to go from here?\n",
    "\n",
    "Now that you have created first Layer Project, you can:\n",
    "\n",
    "- Join our [Slack Community ](https://bit.ly/layercommunityslack)\n",
    "- Visit [Layer Examples Repo](https://github.com/layerai/examples) for more examples\n",
    "- Browse [Trending Layer Projects](https://layer.ai) on our mainpage\n",
    "- Check out [Layer Documentation](https://docs.layer.ai) to learn more"
   ]
  }
 ],
 "metadata": {
  "colab": {
   "collapsed_sections": [],
   "name": "Getting Started with Layer",
   "provenance": []
  },
  "kernelspec": {
   "display_name": "Python 3 (ipykernel)",
   "language": "python",
   "name": "python3"
  },
  "language_info": {
   "codemirror_mode": {
    "name": "ipython",
    "version": 3
   },
   "file_extension": ".py",
   "mimetype": "text/x-python",
   "name": "python",
   "nbconvert_exporter": "python",
   "pygments_lexer": "ipython3",
   "version": "3.8.5"
  }
 },
 "nbformat": 4,
 "nbformat_minor": 5
}