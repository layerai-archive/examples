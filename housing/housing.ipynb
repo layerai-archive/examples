{
 "nbformat": 4,
 "nbformat_minor": 0,
 "metadata": {
  "colab": {
   "name": "housing.ipynb",
   "provenance": [],
   "collapsed_sections": []
  },
  "kernelspec": {
   "name": "python3",
   "display_name": "Python 3"
  },
  "language_info": {
   "name": "python"
  },
  "widgets": {
   "application/vnd.jupyter.widget-state+json": {
    "e517857f9c39479ca7bc01370b7b8f2c": {
     "model_module": "@jupyter-widgets/output",
     "model_name": "OutputModel",
     "model_module_version": "1.0.0",
     "state": {
      "_dom_classes": [],
      "_model_module": "@jupyter-widgets/output",
      "_model_module_version": "1.0.0",
      "_model_name": "OutputModel",
      "_view_count": null,
      "_view_module": "@jupyter-widgets/output",
      "_view_module_version": "1.0.0",
      "_view_name": "OutputView",
      "layout": "IPY_MODEL_0e4879c3784843ea90024da56125558b",
      "msg_id": "",
      "outputs": [
       {
        "output_type": "display_data",
        "data": {
         "text/plain": "✅  housing              \u001B[38;2;52;211;153m━━━━━━━━━━━━━━━━━━━━━━\u001B[0m \u001B[38;2;52;211;153m        done         \u001B[0m \u001B[39m[ \u001B[0m\u001B[33m0:00:17\u001B[0m\u001B[39m ]\u001B[0m \n    \u001B]8;id=256956;https://app.layer.ai/layer/california_housing/models/housing\u001B\\\u001B[4;38;2;161;161;169mhttps://app.layer.ai/layer/california_housing/models/housing\u001B[0m\u001B]8;;\u001B\\                  \n",
         "text/html": "<pre style=\"white-space:pre;overflow-x:auto;line-height:normal;font-family:Menlo,'DejaVu Sans Mono',consolas,'Courier New',monospace\">✅  housing              <span style=\"color: #34d399; text-decoration-color: #34d399\">━━━━━━━━━━━━━━━━━━━━━━</span> <span style=\"color: #34d399; text-decoration-color: #34d399\">        done         </span> <span style=\"color: #000000; text-decoration-color: #000000\">[ </span><span style=\"color: #808000; text-decoration-color: #808000\">0:00:17</span><span style=\"color: #000000; text-decoration-color: #000000\"> ]</span> \n    <a href=\"https://app.layer.ai/layer/california_housing/models/housing\"><span style=\"color: #a1a1a9; text-decoration-color: #a1a1a9; text-decoration: underline\">https://app.layer.ai/layer/california_housing/models/housing</span></a>                  \n</pre>\n"
        },
        "metadata": {}
       }
      ]
     }
    },
    "0e4879c3784843ea90024da56125558b": {
     "model_module": "@jupyter-widgets/base",
     "model_name": "LayoutModel",
     "model_module_version": "1.2.0",
     "state": {
      "_model_module": "@jupyter-widgets/base",
      "_model_module_version": "1.2.0",
      "_model_name": "LayoutModel",
      "_view_count": null,
      "_view_module": "@jupyter-widgets/base",
      "_view_module_version": "1.2.0",
      "_view_name": "LayoutView",
      "align_content": null,
      "align_items": null,
      "align_self": null,
      "border": null,
      "bottom": null,
      "display": null,
      "flex": null,
      "flex_flow": null,
      "grid_area": null,
      "grid_auto_columns": null,
      "grid_auto_flow": null,
      "grid_auto_rows": null,
      "grid_column": null,
      "grid_gap": null,
      "grid_row": null,
      "grid_template_areas": null,
      "grid_template_columns": null,
      "grid_template_rows": null,
      "height": null,
      "justify_content": null,
      "justify_items": null,
      "left": null,
      "margin": null,
      "max_height": null,
      "max_width": null,
      "min_height": null,
      "min_width": null,
      "object_fit": null,
      "object_position": null,
      "order": null,
      "overflow": null,
      "overflow_x": null,
      "overflow_y": null,
      "padding": null,
      "right": null,
      "top": null,
      "visibility": null,
      "width": null
     }
    }
   }
  }
 },
 "cells": [
  {
   "cell_type": "markdown",
   "source": [
    "# House price prediction\n",
    "\n"
   ],
   "metadata": {
    "id": "XolS6PGOPj8V"
   }
  },
  {
   "cell_type": "markdown",
   "source": [
    "[![Open in Layer](https://development.layer.co/assets/badge.svg)](https://app.layer.ai/layer/california_housing) [![Open in Colab](https://colab.research.google.com/assets/colab-badge.svg)](https://colab.research.google.com/github/layerai/examples/blob/main/housing/housing.ipynb) [![Layer Examples Github](https://badgen.net/badge/icon/github?icon=github&label)](https://github.com/layerai/examples/tree/main/housing)\n"
   ],
   "metadata": {
    "id": "0FI1oOtlPqia"
   }
  },
  {
   "cell_type": "code",
   "execution_count": null,
   "metadata": {
    "colab": {
     "base_uri": "https://localhost:8080/"
    },
    "id": "A4Zd19Rw-_7q",
    "outputId": "d65717c1-e29d-40b8-c8f5-7ed4db04e185",
    "pycharm": {
     "is_executing": true
    }
   },
   "outputs": [],
   "source": [
    "!pip install layer -qqq"
   ]
  },
  {
   "cell_type": "code",
   "source": [
    "import layer\n",
    "from layer.decorators import model, resources, pip_requirements, fabric, dataset\n",
    "layer.login()"
   ],
   "metadata": {
    "colab": {
     "base_uri": "https://localhost:8080/"
    },
    "id": "IyHq6qVO_CE3",
    "outputId": "ae9c0ac6-3fad-471b-c153-396b9e8103f7"
   },
   "execution_count": 1,
   "outputs": []
  },
  {
   "cell_type": "code",
   "source": [
    "layer.init(\"california_housing\")"
   ],
   "metadata": {
    "colab": {
     "base_uri": "https://localhost:8080/"
    },
    "id": "UJodpb7GIQdl",
    "outputId": "1dd86885-f898-473a-e906-b1abcd6205e2",
    "pycharm": {
     "is_executing": true
    }
   },
   "execution_count": null,
   "outputs": []
  },
  {
   "cell_type": "code",
   "source": [
    "@pip_requirements(packages=[\"seaborn\"])\n",
    "@model(\"housing\")\n",
    "def train():\n",
    "  import pandas as pd\n",
    "  import seaborn as sns\n",
    "  import matplotlib.pyplot as plt\n",
    "  from sklearn.linear_model import LinearRegression\n",
    "  from sklearn import metrics\n",
    "  import numpy as np\n",
    "  train = layer.get_dataset('layer/california_housing/datasets/train').to_pandas()\n",
    "  test = layer.get_dataset('layer/california_housing/datasets/test').to_pandas()\n",
    "  train.dropna(inplace=True)\n",
    "  plt.figure(figsize=(12,6))\n",
    "  sns.distplot(train['median_house_value'])\n",
    "  layer.log({\"median house value\":plt.gcf()})\n",
    "  corr = train.corr()\n",
    "  plt.figure(figsize=(12,8))\n",
    "  sns.heatmap(corr,annot=True)\n",
    "  layer.log({\"corr Heatmap\": plt.gcf()})\n",
    "  X_train = train.drop(['median_house_value'],axis=1)\n",
    "  y_train = train['median_house_value']\n",
    "  X_test = test.drop(['median_house_value'],axis=1)\n",
    "  y_test = test['median_house_value']\n",
    "  model = LinearRegression()\n",
    "  model.fit(X_train,y_train)\n",
    "  predictions = model.predict(X_test)\n",
    "  predctions_df = pd.DataFrame(predictions,columns=['Predicted Price'])\n",
    "  layer.log({\"Predictions DataFrame\":predctions_df.head(100)})\n",
    "  plt.figure(figsize=(12,6))\n",
    "  sns.distplot((y_test-predictions))\n",
    "  layer.log({\"Predictions\":plt.gcf()})\n",
    "  plt.figure(figsize=(12,6))\n",
    "  sns.scatterplot(y_test,predictions)\n",
    "  layer.log({\"Predictions scatter plot\":plt.gcf()})\n",
    "  layer.log({ 'Mean Absolute Error': metrics.mean_absolute_error(y_test, predictions),\n",
    "      'Mean Squarred Error': metrics.mean_squared_error(y_test, predictions),\n",
    "      'Root Mean Squared Error': np.sqrt(metrics.mean_squared_error(y_test, predictions))})\n",
    "  coefficient = model.coef_\n",
    "  coef_df = pd.DataFrame([coefficient],columns=X_test.columns)\n",
    "  layer.log({\"coefficient\": coef_df})\n",
    "  return model"
   ],
   "metadata": {
    "id": "D9t459FWAnxA"
   },
   "execution_count": 21,
   "outputs": []
  },
  {
   "cell_type": "code",
   "source": [
    "train()"
   ],
   "metadata": {
    "colab": {
     "base_uri": "https://localhost:8080/",
     "height": 1000,
     "referenced_widgets": [
      "e517857f9c39479ca7bc01370b7b8f2c",
      "0e4879c3784843ea90024da56125558b"
     ]
    },
    "id": "cjJVzFi-Bn6o",
    "outputId": "c2921716-cd0e-41ef-b6b4-fd6609a49eb6",
    "pycharm": {
     "is_executing": true
    }
   },
   "execution_count": null,
   "outputs": []
  },
  {
   "cell_type": "code",
   "source": [
    "test = layer.get_dataset('layer/california_housing/datasets/test').to_pandas()\n",
    "model = layer.get_model('layer/california_housing/models/housing').get_train()\n",
    "x = test.drop('median_house_value', axis=1)\n",
    "model.predict(x.head(1))"
   ],
   "metadata": {
    "colab": {
     "base_uri": "https://localhost:8080/"
    },
    "id": "FdmvHw9IIOJM",
    "outputId": "ec8e933c-7541-46bc-81eb-dab7fae1a938"
   },
   "execution_count": 35,
   "outputs": [
    {
     "output_type": "execute_result",
     "data": {
      "text/plain": [
       "array([7128.08452517])"
      ]
     },
     "metadata": {},
     "execution_count": 35
    }
   ]
  },
  {
   "cell_type": "code",
   "source": [
    ""
   ],
   "metadata": {
    "id": "_13SzD6sOc7w"
   },
   "execution_count": null,
   "outputs": []
  }
 ]
}