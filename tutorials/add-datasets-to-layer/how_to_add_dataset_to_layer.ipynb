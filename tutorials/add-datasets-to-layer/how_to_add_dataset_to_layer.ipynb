{
 "cells": [
  {
   "cell_type": "markdown",
   "metadata": {
    "id": "6af98WlEN0cV"
   },
   "source": [
    "# How to add dataset to Layer"
   ]
  },
  {
   "cell_type": "markdown",
   "metadata": {
    "id": "KqaU98HtN7qy"
   },
   "source": [
    "[![Open in Layer](https://development.layer.co/assets/badge.svg)](https://app.layer.ai/layer/iris/) [![Open in Colab](https://colab.research.google.com/assets/colab-badge.svg)](https://colab.research.google.com/github/layerai/examples/blob/main/tutorials/add-datasets-to-layer/how_to_add_dataset_to_layer.ipynb) [![Layer Examples Github](https://badgen.net/badge/icon/github?icon=github&label)](https://github.com/layerai/examples/tree/main/tutorials/add-datasets-to-layer)\n"
   ]
  },
  {
   "cell_type": "markdown",
   "metadata": {
    "id": "b1AABPiuO4yO"
   },
   "source": [
    "In this notebok we'll look at how to build and add datasets to [Layer](https://layer.ai)."
   ]
  },
  {
   "cell_type": "markdown",
   "metadata": {
    "id": "CS9EB3tNPCfi"
   },
   "source": [
    "## Install Layer\n",
    "\n",
    "Ensure that you have the latest version of Layer installed. "
   ]
  },
  {
   "cell_type": "code",
   "execution_count": null,
   "metadata": {
    "colab": {
     "base_uri": "https://localhost:8080/"
    },
    "id": "XWCHYmVeNpmQ",
    "outputId": "d16ad251-959b-46ae-88d9-955f9a952da8",
    "pycharm": {
     "is_executing": true
    }
   },
   "outputs": [],
   "source": [
    "!pip install layer --upgrade -qqq"
   ]
  },
  {
   "cell_type": "markdown",
   "metadata": {
    "id": "tNbNVy7tPFvK"
   },
   "source": [
    "## Authenticate your Layer account \n",
    "\n",
    "Once Layer is installed, you need to log in to your Layer account. The created data will be stored under this account. Therefore, this step is a must."
   ]
  },
  {
   "cell_type": "code",
   "execution_count": null,
   "metadata": {
    "colab": {
     "base_uri": "https://localhost:8080/"
    },
    "id": "UrTmmRFPNrbo",
    "outputId": "7847b9ba-cddf-4cff-e7b8-12de7059be58",
    "pycharm": {
     "is_executing": true
    }
   },
   "outputs": [],
   "source": [
    "import layer\n",
    "layer.login()"
   ]
  },
  {
   "cell_type": "markdown",
   "metadata": {
    "id": "0lNJIstoPVlu"
   },
   "source": [
    "## Create a project\n",
    "The next step is to create a project. The dataset will be saved under this project. In Layer, projects are created using the `layer.init` command while passing the name of the project. "
   ]
  },
  {
   "cell_type": "code",
   "execution_count": null,
   "metadata": {
    "colab": {
     "base_uri": "https://localhost:8080/"
    },
    "id": "9o2c23XxOHC1",
    "outputId": "35afe43f-d0b6-47fe-ed33-a681457cdf13"
   },
   "outputs": [],
   "source": [
    "# ++ init Layer\n",
    "layer.init(\"iris\")"
   ]
  },
  {
   "cell_type": "markdown",
   "metadata": {
    "id": "sqjnIT9APqxM"
   },
   "source": [
    "## Saving the data to Layer\n",
    "We can interact with Layer using decorators. Layer has built-in decorators for different purposes. In this case, we are interested in the [@dataset](http://docs.app.layer.ai/docs/sdk-library/dataset-decorator) decorator that we can use to create new datasets. \n",
    "\n",
    "Let's demonstrate how to use the [@dataset](http://docs.app.layer.ai/docs/sdk-library/dataset-decorator) decorator by saving the Iris dataset from `sklearn`. We can do this by creating a function that returns the dataset as a Pandas DataFrame."
   ]
  },
  {
   "cell_type": "markdown",
   "metadata": {
    "id": "6KEhRQezQkRy"
   },
   "source": [
    "### Decorate the function \n",
    "\n",
    "Saving the dataset to Layer is done by decorating the function with the [@dataset](http://docs.app.layer.ai/docs/sdk-library/dataset-decorator) decorator. The decorator only expects the name you'd like to give your dataset. "
   ]
  },
  {
   "cell_type": "code",
   "execution_count": 32,
   "metadata": {
    "id": "h4M-WzH0Cime"
   },
   "outputs": [],
   "source": [
    "import layer\n",
    "from layer.decorators import dataset\n",
    "@dataset('iris_data')\n",
    "def save_iris():\n",
    "  from sklearn import datasets\n",
    "  import pandas as pd\n",
    "  iris = datasets.load_iris()\n",
    "  df = pd.DataFrame(data=iris.data, columns = iris.feature_names)\n",
    "  return df"
   ]
  },
  {
   "cell_type": "markdown",
   "metadata": {
    "id": "h5ZaaGZARBc9"
   },
   "source": [
    "When you execute this function, the data will be stored in Layer under the project you just intitialized. \n",
    "\n",
    "You can execute this function in two ways."
   ]
  },
  {
   "cell_type": "markdown",
   "metadata": {
    "id": "fYoASRDKRPmM"
   },
   "source": [
    "### Run the function localy\n",
    "\n",
    "Running the function locally uses your local infrastructure. However, the resulting DataFrame will still be saved to Layer. Layer will also print a link that you can use to view the data immediately. "
   ]
  },
  {
   "cell_type": "markdown",
   "metadata": {
    "id": "2izhZJlCRxL6"
   },
   "source": [
    "### Run the function on Layer infrastructure \n",
    "\n",
    "You can also choose to execute the function on Layer's infrastructure. This is useful especially when dealing with large data that require a lot of computation power. \n",
    "\n",
    "Running functions on Layer infra is done by passing them to the `layer.run` command. The command expects a list of functions. "
   ]
  },
  {
   "cell_type": "code",
   "execution_count": null,
   "metadata": {
    "colab": {
     "base_uri": "https://localhost:8080/",
     "height": 70,
     "referenced_widgets": [
      "388cd8e240514103963225081913df48",
      "0fb923c0459742c1b47839e7089c2584"
     ]
    },
    "id": "Boq19eWgCexK",
    "outputId": "175df16c-9fc7-4947-ccd3-0cb216763e79"
   },
   "outputs": [],
   "source": [
    "layer.run([save_iris])"
   ]
  },
  {
   "cell_type": "markdown",
   "metadata": {
    "id": "ZddgLVmpSs5h"
   },
   "source": [
    "## Saving files to Layer\n",
    "If your dataset depends on a file like a CSV file, you can bundle it with your decorated function with [resources](https://docs.app.layer.ai/docs/sdk-library/resources-decorator) decorator. Layer automatically uploads your local file.  The decorator expects the path to the data file."
   ]
  },
  {
   "cell_type": "code",
   "execution_count": 41,
   "metadata": {
    "id": "4mBiPRGuSpfI"
   },
   "outputs": [],
   "source": [
    "data_file = 'iris.csv'\n",
    "import layer\n",
    "from layer.decorators import resources\n",
    "@dataset('iris_data')\n",
    "@resources(data_file)\n",
    "def save_iris():\n",
    "  import pandas as pd\n",
    "  iris = pd.read_csv(data_file)\n",
    "  return iris"
   ]
  },
  {
   "cell_type": "code",
   "execution_count": null,
   "metadata": {
    "colab": {
     "base_uri": "https://localhost:8080/",
     "height": 70,
     "referenced_widgets": [
      "0417d4ccbbad48f8ad4ee037146a7343",
      "79685a99a7a947bf8bb3cc3352c94942"
     ]
    },
    "id": "s6HgNnUFTjfA",
    "outputId": "0747e20a-6593-42f1-ec6a-88d8327919ba"
   },
   "outputs": [],
   "source": [
    "layer.run([save_iris])"
   ]
  }
 ],
 "metadata": {
  "colab": {
   "name": "How to add dataset to Layer.ipynb",
   "provenance": []
  },
  "kernelspec": {
   "display_name": "Python 3 (ipykernel)",
   "language": "python",
   "name": "python3"
  },
  "language_info": {
   "codemirror_mode": {
    "name": "ipython",
    "version": 3
   },
   "file_extension": ".py",
   "mimetype": "text/x-python",
   "name": "python",
   "nbconvert_exporter": "python",
   "pygments_lexer": "ipython3",
   "version": "3.8.5"
  },
  "widgets": {
   "application/vnd.jupyter.widget-state+json": {
    "0417d4ccbbad48f8ad4ee037146a7343": {
     "model_module": "@jupyter-widgets/output",
     "model_module_version": "1.0.0",
     "model_name": "OutputModel",
     "state": {
      "_dom_classes": [],
      "_model_module": "@jupyter-widgets/output",
      "_model_module_version": "1.0.0",
      "_model_name": "OutputModel",
      "_view_count": null,
      "_view_module": "@jupyter-widgets/output",
      "_view_module_version": "1.0.0",
      "_view_name": "OutputView",
      "layout": "IPY_MODEL_79685a99a7a947bf8bb3cc3352c94942",
      "msg_id": "",
      "outputs": [
       {
        "data": {
         "text/html": "<pre style=\"white-space:pre;overflow-x:auto;line-height:normal;font-family:Menlo,'DejaVu Sans Mono',consolas,'Courier New',monospace\">✅  iris_data            <span style=\"color: #34d399; text-decoration-color: #34d399\">━━━━━━━━━━━━━━━━━━━━━━</span> <span style=\"color: #34d399; text-decoration-color: #34d399\">        done         </span> <span style=\"color: #000000; text-decoration-color: #000000\">[ </span><span style=\"color: #808000; text-decoration-color: #808000\">0:00:10</span><span style=\"color: #000000; text-decoration-color: #000000\"> ]</span> \n    <a href=\"https://app.layer.ai/layer/iris/datasets/iris_data\"><span style=\"color: #a1a1a9; text-decoration-color: #a1a1a9; text-decoration: underline\">https://app.layer.ai/layer/iris/datasets/iris_data</span></a>                            \n</pre>\n",
         "text/plain": "✅  iris_data            \u001B[38;2;52;211;153m━━━━━━━━━━━━━━━━━━━━━━\u001B[0m \u001B[38;2;52;211;153m        done         \u001B[0m \u001B[39m[ \u001B[0m\u001B[33m0:00:10\u001B[0m\u001B[39m ]\u001B[0m \n    \u001B]8;id=179736;https://app.layer.ai/layer/iris/datasets/iris_data\u001B\\\u001B[4;38;2;161;161;169mhttps://app.layer.ai/layer/iris/datasets/iris_data\u001B[0m\u001B]8;;\u001B\\                            \n"
        },
        "metadata": {},
        "output_type": "display_data"
       }
      ]
     }
    },
    "0fb923c0459742c1b47839e7089c2584": {
     "model_module": "@jupyter-widgets/base",
     "model_module_version": "1.2.0",
     "model_name": "LayoutModel",
     "state": {
      "_model_module": "@jupyter-widgets/base",
      "_model_module_version": "1.2.0",
      "_model_name": "LayoutModel",
      "_view_count": null,
      "_view_module": "@jupyter-widgets/base",
      "_view_module_version": "1.2.0",
      "_view_name": "LayoutView",
      "align_content": null,
      "align_items": null,
      "align_self": null,
      "border": null,
      "bottom": null,
      "display": null,
      "flex": null,
      "flex_flow": null,
      "grid_area": null,
      "grid_auto_columns": null,
      "grid_auto_flow": null,
      "grid_auto_rows": null,
      "grid_column": null,
      "grid_gap": null,
      "grid_row": null,
      "grid_template_areas": null,
      "grid_template_columns": null,
      "grid_template_rows": null,
      "height": null,
      "justify_content": null,
      "justify_items": null,
      "left": null,
      "margin": null,
      "max_height": null,
      "max_width": null,
      "min_height": null,
      "min_width": null,
      "object_fit": null,
      "object_position": null,
      "order": null,
      "overflow": null,
      "overflow_x": null,
      "overflow_y": null,
      "padding": null,
      "right": null,
      "top": null,
      "visibility": null,
      "width": null
     }
    },
    "2eee2d43c72542549a99ce7f6904b64d": {
     "model_module": "@jupyter-widgets/base",
     "model_module_version": "1.2.0",
     "model_name": "LayoutModel",
     "state": {
      "_model_module": "@jupyter-widgets/base",
      "_model_module_version": "1.2.0",
      "_model_name": "LayoutModel",
      "_view_count": null,
      "_view_module": "@jupyter-widgets/base",
      "_view_module_version": "1.2.0",
      "_view_name": "LayoutView",
      "align_content": null,
      "align_items": null,
      "align_self": null,
      "border": null,
      "bottom": null,
      "display": null,
      "flex": null,
      "flex_flow": null,
      "grid_area": null,
      "grid_auto_columns": null,
      "grid_auto_flow": null,
      "grid_auto_rows": null,
      "grid_column": null,
      "grid_gap": null,
      "grid_row": null,
      "grid_template_areas": null,
      "grid_template_columns": null,
      "grid_template_rows": null,
      "height": null,
      "justify_content": null,
      "justify_items": null,
      "left": null,
      "margin": null,
      "max_height": null,
      "max_width": null,
      "min_height": null,
      "min_width": null,
      "object_fit": null,
      "object_position": null,
      "order": null,
      "overflow": null,
      "overflow_x": null,
      "overflow_y": null,
      "padding": null,
      "right": null,
      "top": null,
      "visibility": null,
      "width": null
     }
    },
    "388cd8e240514103963225081913df48": {
     "model_module": "@jupyter-widgets/output",
     "model_module_version": "1.0.0",
     "model_name": "OutputModel",
     "state": {
      "_dom_classes": [],
      "_model_module": "@jupyter-widgets/output",
      "_model_module_version": "1.0.0",
      "_model_name": "OutputModel",
      "_view_count": null,
      "_view_module": "@jupyter-widgets/output",
      "_view_module_version": "1.0.0",
      "_view_name": "OutputView",
      "layout": "IPY_MODEL_0fb923c0459742c1b47839e7089c2584",
      "msg_id": "",
      "outputs": [
       {
        "data": {
         "text/html": "<pre style=\"white-space:pre;overflow-x:auto;line-height:normal;font-family:Menlo,'DejaVu Sans Mono',consolas,'Courier New',monospace\">✅  iris_data            <span style=\"color: #34d399; text-decoration-color: #34d399\">━━━━━━━━━━━━━━━━━━━━━━</span> <span style=\"color: #34d399; text-decoration-color: #34d399\">        done         </span> <span style=\"color: #000000; text-decoration-color: #000000\">[ </span><span style=\"color: #808000; text-decoration-color: #808000\">0:00:13</span><span style=\"color: #000000; text-decoration-color: #000000\"> ]</span> \n    <a href=\"https://app.layer.ai/layer/iris/datasets/iris_data\"><span style=\"color: #a1a1a9; text-decoration-color: #a1a1a9; text-decoration: underline\">https://app.layer.ai/layer/iris/datasets/iris_data</span></a>                            \n</pre>\n",
         "text/plain": "✅  iris_data            \u001B[38;2;52;211;153m━━━━━━━━━━━━━━━━━━━━━━\u001B[0m \u001B[38;2;52;211;153m        done         \u001B[0m \u001B[39m[ \u001B[0m\u001B[33m0:00:13\u001B[0m\u001B[39m ]\u001B[0m \n    \u001B]8;id=855941;https://app.layer.ai/layer/iris/datasets/iris_data\u001B\\\u001B[4;38;2;161;161;169mhttps://app.layer.ai/layer/iris/datasets/iris_data\u001B[0m\u001B]8;;\u001B\\                            \n"
        },
        "metadata": {},
        "output_type": "display_data"
       }
      ]
     }
    },
    "79685a99a7a947bf8bb3cc3352c94942": {
     "model_module": "@jupyter-widgets/base",
     "model_module_version": "1.2.0",
     "model_name": "LayoutModel",
     "state": {
      "_model_module": "@jupyter-widgets/base",
      "_model_module_version": "1.2.0",
      "_model_name": "LayoutModel",
      "_view_count": null,
      "_view_module": "@jupyter-widgets/base",
      "_view_module_version": "1.2.0",
      "_view_name": "LayoutView",
      "align_content": null,
      "align_items": null,
      "align_self": null,
      "border": null,
      "bottom": null,
      "display": null,
      "flex": null,
      "flex_flow": null,
      "grid_area": null,
      "grid_auto_columns": null,
      "grid_auto_flow": null,
      "grid_auto_rows": null,
      "grid_column": null,
      "grid_gap": null,
      "grid_row": null,
      "grid_template_areas": null,
      "grid_template_columns": null,
      "grid_template_rows": null,
      "height": null,
      "justify_content": null,
      "justify_items": null,
      "left": null,
      "margin": null,
      "max_height": null,
      "max_width": null,
      "min_height": null,
      "min_width": null,
      "object_fit": null,
      "object_position": null,
      "order": null,
      "overflow": null,
      "overflow_x": null,
      "overflow_y": null,
      "padding": null,
      "right": null,
      "top": null,
      "visibility": null,
      "width": null
     }
    },
    "f6a83105d6f94b26a1ced0090006843c": {
     "model_module": "@jupyter-widgets/output",
     "model_module_version": "1.0.0",
     "model_name": "OutputModel",
     "state": {
      "_dom_classes": [],
      "_model_module": "@jupyter-widgets/output",
      "_model_module_version": "1.0.0",
      "_model_name": "OutputModel",
      "_view_count": null,
      "_view_module": "@jupyter-widgets/output",
      "_view_module_version": "1.0.0",
      "_view_name": "OutputView",
      "layout": "IPY_MODEL_2eee2d43c72542549a99ce7f6904b64d",
      "msg_id": "",
      "outputs": [
       {
        "data": {
         "text/html": "<pre style=\"white-space:pre;overflow-x:auto;line-height:normal;font-family:Menlo,'DejaVu Sans Mono',consolas,'Courier New',monospace\">✅  iris_data            <span style=\"color: #34d399; text-decoration-color: #34d399\">━━━━━━━━━━━━━━━━━━━━━━</span> <span style=\"color: #34d399; text-decoration-color: #34d399\">        done         </span> <span style=\"color: #000000; text-decoration-color: #000000\">[ </span><span style=\"color: #808000; text-decoration-color: #808000\">0:00:08</span><span style=\"color: #000000; text-decoration-color: #000000\"> ]</span> \n    <a href=\"https://app.layer.ai/layer/iris/datasets/iris_data\"><span style=\"color: #a1a1a9; text-decoration-color: #a1a1a9; text-decoration: underline\">https://app.layer.ai/layer/iris/datasets/iris_data</span></a>                            \n</pre>\n",
         "text/plain": "✅  iris_data            \u001B[38;2;52;211;153m━━━━━━━━━━━━━━━━━━━━━━\u001B[0m \u001B[38;2;52;211;153m        done         \u001B[0m \u001B[39m[ \u001B[0m\u001B[33m0:00:08\u001B[0m\u001B[39m ]\u001B[0m \n    \u001B]8;id=101493;https://app.layer.ai/layer/iris/datasets/iris_data\u001B\\\u001B[4;38;2;161;161;169mhttps://app.layer.ai/layer/iris/datasets/iris_data\u001B[0m\u001B]8;;\u001B\\                            \n"
        },
        "metadata": {},
        "output_type": "display_data"
       }
      ]
     }
    }
   }
  }
 },
 "nbformat": 4,
 "nbformat_minor": 4
}