{
 "cells": [
  {
   "cell_type": "markdown",
   "metadata": {
    "id": "6af98WlEN0cV"
   },
   "source": [
    "# How to train and add models to Layer"
   ]
  },
  {
   "cell_type": "markdown",
   "metadata": {
    "id": "2qd31Hm0ZdeT"
   },
   "source": [
    "[![Open in Layer](https://development.layer.co/assets/badge.svg)](https://app.layer.ai/layer/add-models/) [![Open in Colab](https://colab.research.google.com/assets/colab-badge.svg)](https://colab.research.google.com/github/layerai/examples/blob/main/tutorials/add-models-to-layer/how_to_add_models_to_layer.ipynb) [![Layer Examples Github](https://badgen.net/badge/icon/github?icon=github&label)](https://github.com/layerai/examples/tree/main/tutorials/add-models-to-layer)\n"
   ]
  },
  {
   "cell_type": "markdown",
   "metadata": {
    "id": "FM4TVSaZZgBX"
   },
   "source": [
    "In this notebook, we'll look at how to train and save a model with Layer. Layer supports all the popular machine learning [libraries and frameworks](https://docs.app.layer.ai/docs/models/supported-frameworks)."
   ]
  },
  {
   "cell_type": "markdown",
   "metadata": {
    "id": "rFUi2lR6ZsJI"
   },
   "source": [
    "## Install Layer\n",
    "Ensure that you are using the latest version of Layer. "
   ]
  },
  {
   "cell_type": "code",
   "execution_count": null,
   "metadata": {
    "colab": {
     "base_uri": "https://localhost:8080/"
    },
    "id": "XWCHYmVeNpmQ",
    "outputId": "d210f8c9-3d98-444b-fbc9-24420be8a678"
   },
   "outputs": [],
   "source": [
    "!pip install layer --upgrade -qqq"
   ]
  },
  {
   "cell_type": "markdown",
   "metadata": {
    "id": "KYwA38aSZ381"
   },
   "source": [
    "## Authenticate your Layer account\n",
    "The next step is to log in to your Layer account. The model will be saved under this account. "
   ]
  },
  {
   "cell_type": "code",
   "execution_count": 50,
   "metadata": {
    "id": "UrTmmRFPNrbo"
   },
   "outputs": [],
   "source": [
    "import layer\n",
    "layer.login()"
   ]
  },
  {
   "cell_type": "markdown",
   "metadata": {
    "id": "_h5NccohaFXL"
   },
   "source": [
    "## Initialize a Layer project\n",
    "\n",
    "Next, we need to initialize a Layer project. The model will be saved under this project. "
   ]
  },
  {
   "cell_type": "code",
   "execution_count": null,
   "metadata": {
    "colab": {
     "base_uri": "https://localhost:8080/"
    },
    "id": "9o2c23XxOHC1",
    "outputId": "5da4c1ad-cc09-47b4-feee-3c59c37a6846"
   },
   "outputs": [],
   "source": [
    "# ++ init Layer\n",
    "layer.init(\"add-models\")"
   ]
  },
  {
   "cell_type": "markdown",
   "metadata": {
    "id": "gRMNVaguaUXF"
   },
   "source": [
    "## Create the model\n",
    "\n",
    "Next, let's create a simple model using the Iris dataset."
   ]
  },
  {
   "cell_type": "code",
   "execution_count": 52,
   "metadata": {
    "id": "CoCqkd6waTjD"
   },
   "outputs": [],
   "source": [
    "data_file = \"iris.csv\"\n",
    "def save_iris_model():\n",
    "  from sklearn.svm import SVC\n",
    "  import pandas as pd\n",
    "  from sklearn.model_selection import train_test_split\n",
    "  dataset = pd.read_csv(data_file)\n",
    "  X = dataset.drop(['Id','Species'], axis = 1)\n",
    "  y = dataset['Species']\n",
    "  X_train, X_test, y_train, y_test = train_test_split( X, y, test_size=0.33, random_state=42)\n",
    "  model = SVC()\n",
    "  model.fit(X_train, y_train)\n",
    "  return model"
   ]
  },
  {
   "cell_type": "markdown",
   "metadata": {
    "id": "CHGM_87Zag_t"
   },
   "source": [
    "As you can see above, we have created a function that returns a model. In order to save this model to Layer, we decorate this function with the [@model](https://docs.app.layer.ai/docs/sdk-library/model-decorator) decorator. "
   ]
  },
  {
   "cell_type": "markdown",
   "metadata": {
    "id": "3xtVb3jGaufi"
   },
   "source": [
    "### Use the model decorator\n",
    "\n",
    "The [@model](https://docs.app.layer.ai/docs/sdk-library/model-decorator) decorator is used to wrap any function that trains a model. Functions decorated with the [@model](https://docs.app.layer.ai/docs/sdk-library/model-decorator) decorator should return a model object. Layer stores the resulting model whether the decorated function is executed locally or via Layer infra. "
   ]
  },
  {
   "cell_type": "code",
   "execution_count": 53,
   "metadata": {
    "id": "m9T5IY26PrnC"
   },
   "outputs": [],
   "source": [
    "data_file = \"iris.csv\"\n",
    "from layer.decorators import model, resources\n",
    "@resources(data_file)\n",
    "@model(\"iris_model\")\n",
    "def save_iris_model():\n",
    "  from sklearn.svm import SVC\n",
    "  import pandas as pd\n",
    "  from sklearn.model_selection import train_test_split\n",
    "  dataset = pd.read_csv(data_file)\n",
    "  X = dataset.drop(['Id','Species'], axis = 1)\n",
    "  y = dataset['Species']\n",
    "  X_train, X_test, y_train, y_test = train_test_split( X, y, test_size=0.33, random_state=42)\n",
    "  model = SVC()\n",
    "  model.fit(X_train, y_train)\n",
    "  return model"
   ]
  },
  {
   "cell_type": "markdown",
   "metadata": {
    "id": "dlwU6hnfbwmk"
   },
   "source": [
    "### Run the function\n",
    "\n",
    "The final step is to execute the function. Models can be trained on the Layer infra by passing the training function to `layer.run`. When this runs successfully, Layer prints the link to the model. Clicking it takes you to the model page on Layer. "
   ]
  },
  {
   "cell_type": "code",
   "execution_count": 55,
   "metadata": {
    "id": "ufmlCr3qPI4Q"
   },
   "outputs": [],
   "source": [
    "layer.run([save_iris_model])"
   ]
  },
  {
   "cell_type": "markdown",
   "metadata": {
    "id": "tsGwYpgg3gI5"
   },
   "source": [
    "You can also execute the training function in your own infra. This is done by calling the function normally. When you do this, the model execution happens locally but the resulting model will still be saved and version on Layer. A link to the model wil also be printed. "
   ]
  },
  {
   "cell_type": "code",
   "execution_count": null,
   "metadata": {
    "colab": {
     "base_uri": "https://localhost:8080/",
     "height": 52,
     "referenced_widgets": [
      "0524afb9e6a04cefba986aad8773c79a",
      "9ffc7e0da2d9432e860e75b2e8d66a37"
     ]
    },
    "id": "mUueyJCget_J",
    "outputId": "2f6d285c-5c6a-4336-8ee4-9bb276a4c3a5"
   },
   "outputs": [],
   "source": [
    "save_iris_model()"
   ]
  }
 ],
 "metadata": {
  "colab": {
   "collapsed_sections": [],
   "name": "How to add models to Layer.ipynb",
   "provenance": []
  },
  "kernelspec": {
   "display_name": "Python 3 (ipykernel)",
   "language": "python",
   "name": "python3"
  },
  "language_info": {
   "codemirror_mode": {
    "name": "ipython",
    "version": 3
   },
   "file_extension": ".py",
   "mimetype": "text/x-python",
   "name": "python",
   "nbconvert_exporter": "python",
   "pygments_lexer": "ipython3",
   "version": "3.8.5"
  },
  "widgets": {
   "application/vnd.jupyter.widget-state+json": {
    "0524afb9e6a04cefba986aad8773c79a": {
     "model_module": "@jupyter-widgets/output",
     "model_module_version": "1.0.0",
     "model_name": "OutputModel",
     "state": {
      "_dom_classes": [],
      "_model_module": "@jupyter-widgets/output",
      "_model_module_version": "1.0.0",
      "_model_name": "OutputModel",
      "_view_count": null,
      "_view_module": "@jupyter-widgets/output",
      "_view_module_version": "1.0.0",
      "_view_name": "OutputView",
      "layout": "IPY_MODEL_9ffc7e0da2d9432e860e75b2e8d66a37",
      "msg_id": "",
      "outputs": [
       {
        "data": {
         "text/html": "<pre style=\"white-space:pre;overflow-x:auto;line-height:normal;font-family:Menlo,'DejaVu Sans Mono',consolas,'Courier New',monospace\">✅  iris_model           <span style=\"color: #34d399; text-decoration-color: #34d399\">━━━━━━━━━━━━━━━━━━━━━━</span> <span style=\"color: #34d399; text-decoration-color: #34d399\">        done         </span> <span style=\"color: #000000; text-decoration-color: #000000\">[ </span><span style=\"color: #808000; text-decoration-color: #808000\">0:00:15</span><span style=\"color: #000000; text-decoration-color: #000000\"> ]</span> \n    <a href=\"https://app.layer.ai/layer/iris/models/iris_model\"><span style=\"color: #a1a1a9; text-decoration-color: #a1a1a9; text-decoration: underline\">https://app.layer.ai/layer/iris/models/iris_model</span></a>                             \n</pre>\n",
         "text/plain": "✅  iris_model           \u001B[38;2;52;211;153m━━━━━━━━━━━━━━━━━━━━━━\u001B[0m \u001B[38;2;52;211;153m        done         \u001B[0m \u001B[39m[ \u001B[0m\u001B[33m0:00:15\u001B[0m\u001B[39m ]\u001B[0m \n    \u001B]8;id=679256;https://app.layer.ai/layer/iris/models/iris_model\u001B\\\u001B[4;38;2;161;161;169mhttps://app.layer.ai/layer/iris/models/iris_model\u001B[0m\u001B]8;;\u001B\\                             \n"
        },
        "metadata": {},
        "output_type": "display_data"
       }
      ]
     }
    },
    "9ffc7e0da2d9432e860e75b2e8d66a37": {
     "model_module": "@jupyter-widgets/base",
     "model_module_version": "1.2.0",
     "model_name": "LayoutModel",
     "state": {
      "_model_module": "@jupyter-widgets/base",
      "_model_module_version": "1.2.0",
      "_model_name": "LayoutModel",
      "_view_count": null,
      "_view_module": "@jupyter-widgets/base",
      "_view_module_version": "1.2.0",
      "_view_name": "LayoutView",
      "align_content": null,
      "align_items": null,
      "align_self": null,
      "border": null,
      "bottom": null,
      "display": null,
      "flex": null,
      "flex_flow": null,
      "grid_area": null,
      "grid_auto_columns": null,
      "grid_auto_flow": null,
      "grid_auto_rows": null,
      "grid_column": null,
      "grid_gap": null,
      "grid_row": null,
      "grid_template_areas": null,
      "grid_template_columns": null,
      "grid_template_rows": null,
      "height": null,
      "justify_content": null,
      "justify_items": null,
      "left": null,
      "margin": null,
      "max_height": null,
      "max_width": null,
      "min_height": null,
      "min_width": null,
      "object_fit": null,
      "object_position": null,
      "order": null,
      "overflow": null,
      "overflow_x": null,
      "overflow_y": null,
      "padding": null,
      "right": null,
      "top": null,
      "visibility": null,
      "width": null
     }
    }
   }
  }
 },
 "nbformat": 4,
 "nbformat_minor": 4
}