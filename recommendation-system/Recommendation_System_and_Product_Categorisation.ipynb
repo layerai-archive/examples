{
  "cells": [
    {
      "cell_type": "markdown",
      "metadata": {},
      "source": [
        "[![Open in Layer](https://development.layer.co/assets/badge.svg)](https://app.layer.ai/layer/Recommendation_System_and_Product_Categorisation_Project/) [![Open in Colab](https://colab.research.google.com/assets/colab-badge.svg)](https://colab.research.google.com/github/layerai/examples/blob/main/recommendation-system/Recommendation_System_and_Product_Categorisation.ipynb) [![Layer Examples Github](https://badgen.net/badge/icon/github?icon=github&label)](https://github.com/layerai/examples/tree/main/recommendation-system)\n",
        "\n",
        "\n",
        "In this e-commerce example walkthrough, we will develop and build a Recommendation System on  Layer. We will use a public clickstream dataset for this example project. For more information about the dataset, you could check out its Kaggle page here: https://www.kaggle.com/datasets/tunguz/clickstream-data-for-online-shopping"
      ]
    },
    {
      "cell_type": "markdown",
      "metadata": {},
      "source": [
        "# Install Requirements"
      ]
    },
    {
      "cell_type": "code",
      "execution_count": null,
      "metadata": {},
      "outputs": [],
      "source": [
        "!pip install layer --upgrade"
      ]
    },
    {
      "cell_type": "code",
      "execution_count": null,
      "metadata": {
        "colab": {
          "base_uri": "https://localhost:8080/"
        },
        "id": "OBWSNFMzXng4",
        "outputId": "93fd5fa3-663a-4fa0-a725-9cdc01e2e87d"
      },
      "outputs": [
        {
          "name": "stdout",
          "output_type": "stream",
          "text": [
            "Cloning into 'examples'...\n",
            "remote: Enumerating objects: 886, done.\u001b[K\n",
            "remote: Counting objects: 100% (434/434), done.\u001b[K\n",
            "remote: Compressing objects: 100% (266/266), done.\u001b[K\n",
            "remote: Total 886 (delta 224), reused 307 (delta 158), pack-reused 452\u001b[K\n",
            "Receiving objects: 100% (886/886), 24.37 MiB | 22.56 MiB/s, done.\n",
            "Resolving deltas: 100% (395/395), done.\n"
          ]
        }
      ],
      "source": [
        "!rm -rf examples/recommendation_engine_and_product_categorisation\n",
        "!git clone -b recommendation_engine_and_product_categorisation https://github.com/layerai/examples/"
      ]
    },
    {
      "cell_type": "markdown",
      "metadata": {},
      "source": [
        "# Getting Started with Layer\n",
        "\n",
        "Layer is an MLOps platform which advances ML pipelines with remote computation and tracking."
      ]
    },
    {
      "cell_type": "code",
      "execution_count": null,
      "metadata": {
        "id": "SwMLbvRcck1g"
      },
      "outputs": [],
      "source": [
        "from layer.decorators import dataset, model,resources\n",
        "from layer.client import Dataset, Model\n",
        "from sklearn.model_selection import train_test_split\n",
        "import pandas as pd\n",
        "import numpy as np\n",
        "import layer"
      ]
    },
    {
      "cell_type": "markdown",
      "metadata": {},
      "source": [
        "## Login to Layer\n",
        "\n",
        "---\n",
        "\n",
        "\n",
        "\n",
        "Let's login to Layer first."
      ]
    },
    {
      "cell_type": "code",
      "execution_count": null,
      "metadata": {
        "colab": {
          "base_uri": "https://localhost:8080/"
        },
        "id": "gghgHk5Wcqz7",
        "outputId": "2e8ddf34-0eb7-48c2-f81b-60ec61e4b794"
      },
      "outputs": [
        {
          "name": "stdout",
          "output_type": "stream",
          "text": [
            "Please open the following link in your web browser. Once logged in, copy the code and paste it here.\n",
            "https://app.layer.ai/oauth/authorize?response_type=code&code_challenge=YxO_KQablXtFP-GUxNfWPicb_9s0s17RfkucDJXEG68&code_challenge_method=S256&client_id=0STDdcnpK48P8A429EAAn93WNuLmViLR&redirect_uri=https://app.layer.ai/oauth/code&scope=offline_access&audience=https://app.layer.ai\n",
            "Code: __KkLKr4KUukoId_DfBTCnXh_sd2sr-exrEXB_r3jAKvP\n",
            "Successfully logged into https://app.layer.ai\n"
          ]
        }
      ],
      "source": [
        "layer.login()"
      ]
    },
    {
      "cell_type": "markdown",
      "metadata": {},
      "source": [
        "## Initialize Layer Project\n",
        "Now we are ready to init our project. Layer Project is basically an ML Repo hosted on Layer where you can store your datasets, models, metrics"
      ]
    },
    {
      "cell_type": "code",
      "execution_count": null,
      "metadata": {
        "colab": {
          "base_uri": "https://localhost:8080/"
        },
        "id": "S5J9gw3WkTkV",
        "outputId": "15856bc1-7196-40ea-cd7e-bbc51c082c60"
      },
      "outputs": [
        {
          "data": {
            "text/plain": [
              "Project(name='Recommendation_System_and_Product_Categorisation_Project', raw_datasets=[], derived_datasets=[], models=[], path=PosixPath('.'), project_files_hash='', readme='', account=Account(id=UUID('add1b570-c8e7-4187-b747-1d01104893a9'), name='layer'), _id=UUID('3335ab76-e638-4bb5-92c3-caabd647e298'), functions=[])"
            ]
          },
          "execution_count": 5,
          "metadata": {},
          "output_type": "execute_result"
        }
      ],
      "source": [
        "layer.init(\"Recommendation_System_and_Product_Categorisation_Project\", pip_packages=[\"gensim\",\"sklearn\",\"pandas\",\"numpy\"], fabric=\"f-medium\")"
      ]
    },
    {
      "cell_type": "markdown",
      "metadata": {},
      "source": [
        "Your project is ready. Find your project here:\n",
        "\n",
        "https://app.layer.ai"
      ]
    },
    {
      "cell_type": "markdown",
      "metadata": {},
      "source": [
        "# **Data Transformation**\n",
        "\n",
        "We will create total of 4 Layer datasets in this project. Here is the list of those datasets and their little descriptions.\n",
        "\n",
        "*  **raw_session_based_clickstream_data:** This is basically identical to the source csv file which is a public Kaggle dataset: https://www.kaggle.com/datasets/tunguz/clickstream-data-for-online-shopping\n",
        "\n",
        "    It is just Layer Dataset definition of the same clickstream raw data.\n",
        "\n",
        "* **sequential_products:** This is a Layer dataset derived from the previous dataset which consists of sequences of products viewed in order per session. \n",
        "\n",
        "\n",
        "* **product_ids_and_vectors:** This is a Layer dataset which stores product vectors (embeddings) returned from Word2Vec algorithm.\n",
        "\n",
        "\n",
        "* **final_product_clusters:** This is a Layer dataset which stores assigned cluster numbers per product and other members of those clusters.\n",
        "\n",
        "Once you are done with building datasets, you can see them all here:\n",
        "\n",
        "https://app.layer.ai/layer/Recommendation_System_and_Product_Categorisation_Project/datasets/\n",
        "\n",
        "## **Model**\n",
        "\n",
        "We will be training a K-Means model from sklearn. We will fit our clustering model using product vectors that we have created previously. You can find all the model experiments and logged data here:\n",
        "\n",
        "Once you are done with training the model, you can see it here:\n",
        "\n",
        "https://app.layer.ai/layer/Recommendation_System_and_Product_Categorisation_Project/models/\n"
      ]
    },
    {
      "cell_type": "code",
      "execution_count": null,
      "metadata": {
        "id": "3EUDpEOvInss"
      },
      "outputs": [],
      "source": [
        "@resources(\"examples/recommendation_system_and_product_categorisation/e-shop clothing 2008.csv\")\n",
        "@dataset(\"raw_session_based_clickstream_data\")\n",
        "def raw_session_based_clickstream_data():\n",
        "  data = pd.read_csv(\"examples/recommendation_system_and_product_categorisation/e-shop clothing 2008.csv\",delimiter = ';')\n",
        "\n",
        "  layer.log({\"Dataset Description\": \"Raw clickstream data of an e-commerce clothing company\"})\n",
        "\n",
        "  return data"
      ]
    },
    {
      "cell_type": "code",
      "execution_count": null,
      "metadata": {
        "id": "oUD1gQxAKdQ4"
      },
      "outputs": [],
      "source": [
        "# remove consecutive duplicates from list\n",
        "def remove_consec_duplicates(raw_lst):\n",
        "  previous_value = None\n",
        "  new_lst = []\n",
        "\n",
        "  for elem in raw_lst:\n",
        "    if elem != previous_value:\n",
        "        new_lst.append(elem)\n",
        "        previous_value = elem\n",
        "        \n",
        "  return new_lst\n",
        "\n",
        "\n",
        "@dataset(\"sequential_products\",dependencies=[Dataset('raw_session_based_clickstream_data')])\n",
        "def generate_sequential_products():\n",
        "  # Load dataset\n",
        "  raw_clickstream = layer.get_dataset(\"raw_session_based_clickstream_data\").to_pandas()\n",
        "\n",
        "  # Rename columns\n",
        "  data = raw_clickstream.rename(columns={\"session ID\": \"session_id\", \"page 2 (clothing model)\": \"product_id\"})\n",
        "  # Remove sessions where only a single product is viewed\n",
        "  data = data.groupby(\"session_id\").filter(lambda x: len(x) > 1)\n",
        "  # Group product view sequences in order by session id\n",
        "  data = data.sort_values(\"order\").groupby(\"session_id\")[\"product_id\"].apply(list)\n",
        "  # Remove consecutive duplicate product views from the sequences genereated in the previous step\n",
        "  data = data.apply(remove_consec_duplicates)\n",
        "\n",
        "  #Convert series to data frame since you could only return dataframe in a Layer dataset decorator\n",
        "  data = data.to_frame().reset_index()\n",
        "\n",
        "  layer.log({\"Dataset Description\": \"Session-based sequences of products in view order\"})\n",
        "\n",
        "  return data"
      ]
    },
    {
      "cell_type": "code",
      "execution_count": null,
      "metadata": {
        "id": "kqVnGUjtmicl"
      },
      "outputs": [],
      "source": [
        "@dataset(\"product_ids_and_vectors\", dependencies=[Dataset(\"sequential_products\")])\n",
        "def create_product_embeddings():\n",
        "  import gensim\n",
        "  from gensim.models import Word2Vec\n",
        "  # Fetch dataset from Layer\n",
        "  df = layer.get_dataset(\"sequential_products\").to_pandas()\n",
        "  \n",
        "  # Create Gensim CBOW model\n",
        "  session_product_sequences = df['product_id'].apply(list)\n",
        "  word2vec_model = gensim.models.Word2Vec(session_product_sequences, min_count = 1, size = 10, window = 5)\n",
        "  \n",
        "  # numpy.ndarrays of product vectors\n",
        "  product_vectors = word2vec_model.wv.vectors\n",
        "\n",
        "  productID_list = word2vec_model.wv.vocab.keys()\n",
        "  vector_list = word2vec_model.wv.vectors.tolist()\n",
        "  data_tuples = list(zip(productID_list,vector_list))\n",
        "  product_ids_and_vectors = pd.DataFrame(data_tuples, columns=['Product_ID','Vectors'])\n",
        "\n",
        "  layer.log({\"Dataset Description\": \"Product Vectors (Embeddings) generated by word2vec algorithm.\"})\n",
        "\n",
        "  return product_ids_and_vectors\n",
        "\n",
        "def plot_cluster_distribution(kmeans_model):\n",
        "  import matplotlib.pyplot as plt\n",
        "\n",
        "  plt.hist(kmeans_model.labels_, rwidth=0.7)\n",
        "  plt.ylabel(\"Number of Products\")\n",
        "  plt.xlabel(\"Cluster No\")\n",
        "\n",
        "  # Layer logs the plot (figure)\n",
        "  fig = plt.gcf()\n",
        "  layer.log({\"Product Distribution over Clusters\": fig})\n",
        "\n",
        "  # clear all plots and figures from memory\n",
        "  plt.figure().clear()\n",
        "  plt.close()\n",
        "  plt.cla()\n",
        "  plt.clf()\n",
        "\n",
        "\n",
        "def plot_cluster_scatter(product_vectors):\n",
        "  import matplotlib.pyplot as plt\n",
        "  from sklearn.decomposition import PCA\n",
        "  from sklearn.cluster import KMeans\n",
        "\n",
        "  pca = PCA(n_components=2)\n",
        "  two_dimensions_vectors = pca.fit_transform(product_vectors)\n",
        "  \n",
        "  kmeans_model = KMeans(n_clusters=10, random_state=0).fit(two_dimensions_vectors)\n",
        "  label = kmeans_model.fit_predict(two_dimensions_vectors)\n",
        "\n",
        "  #Getting the Centroids\n",
        "  centroids = kmeans_model.cluster_centers_\n",
        "  u_labels = np.unique(kmeans_model.labels_)\n",
        "  \n",
        "  #plotting the results:\n",
        "  for i in u_labels:\n",
        "      plt.scatter(two_dimensions_vectors[label == i , 0] , two_dimensions_vectors[label == i , 1] , label = i)\n",
        "  plt.scatter(centroids[:,0] , centroids[:,1] , s = 80, color = 'k')\n",
        "  plt.legend(bbox_to_anchor =(1, 1))\n",
        "  \n",
        "\n",
        "  # Layer logs the plot (figure)\n",
        "  fig = plt.gcf()\n",
        "  layer.log({\"Clusters Formation Scatter Plot\": fig})\n",
        "\n",
        "  # clear all plots and figures from memory\n",
        "  plt.figure().clear()\n",
        "  plt.close()\n",
        "  plt.cla()\n",
        "  plt.clf()\n",
        "\n",
        "@model(\"clustering_model\",dependencies=[Dataset(\"product_ids_and_vectors\")])\n",
        "def fit_kmeans():\n",
        "  import gensim\n",
        "  from gensim.models import Word2Vec\n",
        "  from sklearn.cluster import KMeans\n",
        "  import matplotlib.pyplot as plt\n",
        "  \n",
        "  # Get product vectors from Word2Vec\n",
        "  df = layer.get_dataset(\"product_ids_and_vectors\").to_pandas()\n",
        "  array_product_vectors = np.array(df[\"Vectors\"].values.tolist())\n",
        "\n",
        "  # Fit K-Means algorithm on those embeddings\n",
        "  kmeans_model = KMeans(n_clusters=10, random_state=0).fit(array_product_vectors)\n",
        "\n",
        "  # Cluster Distribution Plot\n",
        "  plot_cluster_distribution(kmeans_model)\n",
        "\n",
        "  # Cluster Scatter Plot\n",
        "  plot_cluster_scatter(array_product_vectors)\n",
        "  \n",
        "  return kmeans_model\n",
        "\n",
        "@dataset(\"final_product_clusters\", dependencies=[Model(\"clustering_model\"), Dataset(\"product_ids_and_vectors\")])\n",
        "def final_results():\n",
        "  model = layer.get_model(\"clustering_model\").get_train()\n",
        "  \n",
        "  df = layer.get_dataset(\"product_ids_and_vectors\").to_pandas()\n",
        "  array_product_vectors = np.array(df[\"Vectors\"].values.tolist())\n",
        "\n",
        "  assigned_cluster_no = model.fit_predict(array_product_vectors).tolist()\n",
        "\n",
        "  df[\"Cluster_No\"] = assigned_cluster_no\n",
        "  cluster_members_df = df[[\"Product_ID\",\"Cluster_No\"]].groupby(\"Cluster_No\")['Product_ID'].apply(list).to_frame().reset_index().rename(columns={'Product_ID': 'Cluster_Member_List'})\n",
        "\n",
        "  result_df = df[[\"Product_ID\",\"Cluster_No\"]].merge(cluster_members_df, how=\"left\", on=[\"Cluster_No\"])\n",
        "\n",
        "  layer.log({\"Dataset Description\": \"Product Clusters and Categorisation\"})\n",
        "\n",
        "  return result_df\n"
      ]
    },
    {
      "cell_type": "markdown",
      "metadata": {},
      "source": [
        "# **Run your project on Layer in local mode**\n",
        "\n",
        "To run your project locally on Layer, just call your functions in the correct order and Layer will log and save all the data you asked for automatically.\n",
        "\n",
        "If you would like to run it in remote mode, put all you functions into the layer.run(), then you are good to go! It will run these functions in its correct order on Layer Infra remotely with respect to dependencies."
      ]
    },
    {
      "cell_type": "code",
      "execution_count": null,
      "metadata": {
        "colab": {
          "base_uri": "https://localhost:8080/",
          "height": 737,
          "referenced_widgets": [
            "78fcf8f13ef24b49beb27d3f8a183c8a",
            "27b12a1e8c3440b9aecf2debd3beccbc",
            "54b9e9093da14246917d3d50682a7afe",
            "42491abf10634a8da2ae38423a83b0a2",
            "ee656c09caa44168ba740643a34151e9",
            "c2c90a9fa1724baead1ca7d91ba9fdd6",
            "6a529bb631054a0b89dea634780d7524",
            "e6a359bace9c455e9914d3e6c2b14aa3",
            "47027b18d5e448da9bcf45c923bedd5c",
            "3a97f0a6748140d8867eb624865c54e5"
          ]
        },
        "id": "cenP3eBCmS92",
        "outputId": "4e43396f-abb9-41d7-f787-a15f41115079"
      },
      "outputs": [
        {
          "data": {
            "application/vnd.jupyter.widget-view+json": {
              "model_id": "78fcf8f13ef24b49beb27d3f8a183c8a",
              "version_major": 2,
              "version_minor": 0
            },
            "text/plain": [
              "Output()"
            ]
          },
          "metadata": {},
          "output_type": "display_data"
        },
        {
          "data": {
            "application/vnd.jupyter.widget-view+json": {
              "model_id": "54b9e9093da14246917d3d50682a7afe",
              "version_major": 2,
              "version_minor": 0
            },
            "text/plain": [
              "Output()"
            ]
          },
          "metadata": {},
          "output_type": "display_data"
        },
        {
          "data": {
            "application/vnd.jupyter.widget-view+json": {
              "model_id": "ee656c09caa44168ba740643a34151e9",
              "version_major": 2,
              "version_minor": 0
            },
            "text/plain": [
              "Output()"
            ]
          },
          "metadata": {},
          "output_type": "display_data"
        },
        {
          "data": {
            "application/vnd.jupyter.widget-view+json": {
              "model_id": "6a529bb631054a0b89dea634780d7524",
              "version_major": 2,
              "version_minor": 0
            },
            "text/plain": [
              "Output()"
            ]
          },
          "metadata": {},
          "output_type": "display_data"
        },
        {
          "name": "stderr",
          "output_type": "stream",
          "text": [
            "2022/05/10 20:15:08 WARNING mlflow.utils.environment: Encountered an unexpected error while inferring pip requirements (model URI: /tmp/tmpe1xevw3a/model/model.pkl, flavor: sklearn), fall back to return ['scikit-learn==1.0.2']. Set logging level to DEBUG to see the full traceback.\n"
          ]
        },
        {
          "data": {
            "application/vnd.jupyter.widget-view+json": {
              "model_id": "47027b18d5e448da9bcf45c923bedd5c",
              "version_major": 2,
              "version_minor": 0
            },
            "text/plain": [
              "Output()"
            ]
          },
          "metadata": {},
          "output_type": "display_data"
        },
        {
          "data": {
            "text/html": [
              "\n",
              "  <div id=\"df-330e18ba-cf8b-4288-b853-cca3919dfed8\">\n",
              "    <div class=\"colab-df-container\">\n",
              "      <div>\n",
              "<style scoped>\n",
              "    .dataframe tbody tr th:only-of-type {\n",
              "        vertical-align: middle;\n",
              "    }\n",
              "\n",
              "    .dataframe tbody tr th {\n",
              "        vertical-align: top;\n",
              "    }\n",
              "\n",
              "    .dataframe thead th {\n",
              "        text-align: right;\n",
              "    }\n",
              "</style>\n",
              "<table border=\"1\" class=\"dataframe\">\n",
              "  <thead>\n",
              "    <tr style=\"text-align: right;\">\n",
              "      <th></th>\n",
              "      <th>Product_ID</th>\n",
              "      <th>Cluster_No</th>\n",
              "      <th>Cluster_Member_List</th>\n",
              "    </tr>\n",
              "  </thead>\n",
              "  <tbody>\n",
              "    <tr>\n",
              "      <th>0</th>\n",
              "      <td>A13</td>\n",
              "      <td>4</td>\n",
              "      <td>[A13, B8, A10, C17, P77, C15, A11, P60, P56, C...</td>\n",
              "    </tr>\n",
              "    <tr>\n",
              "      <th>1</th>\n",
              "      <td>A16</td>\n",
              "      <td>6</td>\n",
              "      <td>[A16, B4, C56, C57, P67, P82, B31, B21, B24, B...</td>\n",
              "    </tr>\n",
              "    <tr>\n",
              "      <th>2</th>\n",
              "      <td>B4</td>\n",
              "      <td>6</td>\n",
              "      <td>[A16, B4, C56, C57, P67, P82, B31, B21, B24, B...</td>\n",
              "    </tr>\n",
              "    <tr>\n",
              "      <th>3</th>\n",
              "      <td>B17</td>\n",
              "      <td>3</td>\n",
              "      <td>[B17, A37, C53, C34, C42, P16, A2, A5, A7, A9,...</td>\n",
              "    </tr>\n",
              "    <tr>\n",
              "      <th>4</th>\n",
              "      <td>B8</td>\n",
              "      <td>4</td>\n",
              "      <td>[A13, B8, A10, C17, P77, C15, A11, P60, P56, C...</td>\n",
              "    </tr>\n",
              "    <tr>\n",
              "      <th>...</th>\n",
              "      <td>...</td>\n",
              "      <td>...</td>\n",
              "      <td>...</td>\n",
              "    </tr>\n",
              "    <tr>\n",
              "      <th>212</th>\n",
              "      <td>P45</td>\n",
              "      <td>1</td>\n",
              "      <td>[C59, B10, P2, P15, B14, C39, P6, P25, B22, C5...</td>\n",
              "    </tr>\n",
              "    <tr>\n",
              "      <th>213</th>\n",
              "      <td>P54</td>\n",
              "      <td>5</td>\n",
              "      <td>[P34, A34, C50, B1, B3, B30, B20, B25, B33, B3...</td>\n",
              "    </tr>\n",
              "    <tr>\n",
              "      <th>214</th>\n",
              "      <td>P28</td>\n",
              "      <td>5</td>\n",
              "      <td>[P34, A34, C50, B1, B3, B30, B20, B25, B33, B3...</td>\n",
              "    </tr>\n",
              "    <tr>\n",
              "      <th>215</th>\n",
              "      <td>P22</td>\n",
              "      <td>5</td>\n",
              "      <td>[P34, A34, C50, B1, B3, B30, B20, B25, B33, B3...</td>\n",
              "    </tr>\n",
              "    <tr>\n",
              "      <th>216</th>\n",
              "      <td>P79</td>\n",
              "      <td>5</td>\n",
              "      <td>[P34, A34, C50, B1, B3, B30, B20, B25, B33, B3...</td>\n",
              "    </tr>\n",
              "  </tbody>\n",
              "</table>\n",
              "<p>217 rows × 3 columns</p>\n",
              "</div>\n",
              "      <button class=\"colab-df-convert\" onclick=\"convertToInteractive('df-330e18ba-cf8b-4288-b853-cca3919dfed8')\"\n",
              "              title=\"Convert this dataframe to an interactive table.\"\n",
              "              style=\"display:none;\">\n",
              "        \n",
              "  <svg xmlns=\"http://www.w3.org/2000/svg\" height=\"24px\"viewBox=\"0 0 24 24\"\n",
              "       width=\"24px\">\n",
              "    <path d=\"M0 0h24v24H0V0z\" fill=\"none\"/>\n",
              "    <path d=\"M18.56 5.44l.94 2.06.94-2.06 2.06-.94-2.06-.94-.94-2.06-.94 2.06-2.06.94zm-11 1L8.5 8.5l.94-2.06 2.06-.94-2.06-.94L8.5 2.5l-.94 2.06-2.06.94zm10 10l.94 2.06.94-2.06 2.06-.94-2.06-.94-.94-2.06-.94 2.06-2.06.94z\"/><path d=\"M17.41 7.96l-1.37-1.37c-.4-.4-.92-.59-1.43-.59-.52 0-1.04.2-1.43.59L10.3 9.45l-7.72 7.72c-.78.78-.78 2.05 0 2.83L4 21.41c.39.39.9.59 1.41.59.51 0 1.02-.2 1.41-.59l7.78-7.78 2.81-2.81c.8-.78.8-2.07 0-2.86zM5.41 20L4 18.59l7.72-7.72 1.47 1.35L5.41 20z\"/>\n",
              "  </svg>\n",
              "      </button>\n",
              "      \n",
              "  <style>\n",
              "    .colab-df-container {\n",
              "      display:flex;\n",
              "      flex-wrap:wrap;\n",
              "      gap: 12px;\n",
              "    }\n",
              "\n",
              "    .colab-df-convert {\n",
              "      background-color: #E8F0FE;\n",
              "      border: none;\n",
              "      border-radius: 50%;\n",
              "      cursor: pointer;\n",
              "      display: none;\n",
              "      fill: #1967D2;\n",
              "      height: 32px;\n",
              "      padding: 0 0 0 0;\n",
              "      width: 32px;\n",
              "    }\n",
              "\n",
              "    .colab-df-convert:hover {\n",
              "      background-color: #E2EBFA;\n",
              "      box-shadow: 0px 1px 2px rgba(60, 64, 67, 0.3), 0px 1px 3px 1px rgba(60, 64, 67, 0.15);\n",
              "      fill: #174EA6;\n",
              "    }\n",
              "\n",
              "    [theme=dark] .colab-df-convert {\n",
              "      background-color: #3B4455;\n",
              "      fill: #D2E3FC;\n",
              "    }\n",
              "\n",
              "    [theme=dark] .colab-df-convert:hover {\n",
              "      background-color: #434B5C;\n",
              "      box-shadow: 0px 1px 3px 1px rgba(0, 0, 0, 0.15);\n",
              "      filter: drop-shadow(0px 1px 2px rgba(0, 0, 0, 0.3));\n",
              "      fill: #FFFFFF;\n",
              "    }\n",
              "  </style>\n",
              "\n",
              "      <script>\n",
              "        const buttonEl =\n",
              "          document.querySelector('#df-330e18ba-cf8b-4288-b853-cca3919dfed8 button.colab-df-convert');\n",
              "        buttonEl.style.display =\n",
              "          google.colab.kernel.accessAllowed ? 'block' : 'none';\n",
              "\n",
              "        async function convertToInteractive(key) {\n",
              "          const element = document.querySelector('#df-330e18ba-cf8b-4288-b853-cca3919dfed8');\n",
              "          const dataTable =\n",
              "            await google.colab.kernel.invokeFunction('convertToInteractive',\n",
              "                                                     [key], {});\n",
              "          if (!dataTable) return;\n",
              "\n",
              "          const docLinkHtml = 'Like what you see? Visit the ' +\n",
              "            '<a target=\"_blank\" href=https://colab.research.google.com/notebooks/data_table.ipynb>data table notebook</a>'\n",
              "            + ' to learn more about interactive tables.';\n",
              "          element.innerHTML = '';\n",
              "          dataTable['output_type'] = 'display_data';\n",
              "          await google.colab.output.renderOutput(dataTable, element);\n",
              "          const docLink = document.createElement('div');\n",
              "          docLink.innerHTML = docLinkHtml;\n",
              "          element.appendChild(docLink);\n",
              "        }\n",
              "      </script>\n",
              "    </div>\n",
              "  </div>\n",
              "  "
            ],
            "text/plain": [
              "    Product_ID  Cluster_No                                Cluster_Member_List\n",
              "0          A13           4  [A13, B8, A10, C17, P77, C15, A11, P60, P56, C...\n",
              "1          A16           6  [A16, B4, C56, C57, P67, P82, B31, B21, B24, B...\n",
              "2           B4           6  [A16, B4, C56, C57, P67, P82, B31, B21, B24, B...\n",
              "3          B17           3  [B17, A37, C53, C34, C42, P16, A2, A5, A7, A9,...\n",
              "4           B8           4  [A13, B8, A10, C17, P77, C15, A11, P60, P56, C...\n",
              "..         ...         ...                                                ...\n",
              "212        P45           1  [C59, B10, P2, P15, B14, C39, P6, P25, B22, C5...\n",
              "213        P54           5  [P34, A34, C50, B1, B3, B30, B20, B25, B33, B3...\n",
              "214        P28           5  [P34, A34, C50, B1, B3, B30, B20, B25, B33, B3...\n",
              "215        P22           5  [P34, A34, C50, B1, B3, B30, B20, B25, B33, B3...\n",
              "216        P79           5  [P34, A34, C50, B1, B3, B30, B20, B25, B33, B3...\n",
              "\n",
              "[217 rows x 3 columns]"
            ]
          },
          "execution_count": 9,
          "metadata": {},
          "output_type": "execute_result"
        },
        {
          "data": {
            "text/plain": [
              "<Figure size 432x288 with 0 Axes>"
            ]
          },
          "metadata": {},
          "output_type": "display_data"
        }
      ],
      "source": [
        "## LAYER LOCAL MODE\n",
        "raw_session_based_clickstream_data()\n",
        "generate_sequential_products()\n",
        "create_product_embeddings()\n",
        "fit_kmeans()\n",
        "final_results()\n",
        "\n",
        "\n",
        "## LAYER REMOTE MODE\n",
        "# layer.run([raw_session_based_clickstream_data,\n",
        "#            generate_sequential_products,\n",
        "#            fit_kmeans],debug=True)"
      ]
    },
    {
      "cell_type": "markdown",
      "metadata": {},
      "source": [
        "# **Let's fetch the final result dataset and fetch 5 randomly-selected recommendations for a given product!**"
      ]
    },
    {
      "cell_type": "code",
      "execution_count": null,
      "metadata": {
        "colab": {
          "base_uri": "https://localhost:8080/"
        },
        "id": "660ZtDD3LR33",
        "outputId": "c29b589a-7c5d-4008-8800-888e39212b51"
      },
      "outputs": [
        {
          "data": {
            "text/plain": [
              "['B19', 'A10', 'C51', 'A6', 'C44']"
            ]
          },
          "execution_count": 12,
          "metadata": {},
          "output_type": "execute_result"
        }
      ],
      "source": [
        "def get_5_recommendations(product_name):\n",
        "  # import random \n",
        "  from random import sample\n",
        "  df = layer.get_dataset(\"layer/Recommendation_System_and_Product_Categorisation_Project/datasets/final_product_clusters\").to_pandas()\n",
        "\n",
        "  # Randomly select sample with 5 product ids\n",
        "  five_recommendations = sample(df[df[\"Product_ID\"]==product_name]['Cluster_Member_List'].iloc[0].tolist(), 5)\n",
        "  # Exclude the given product \n",
        "  while product_name in five_recommendations:\n",
        "    five_recommendations = sample(df[df[\"Product_ID\"]==product_name]['Cluster_Member_List'].iloc[0].tolist(), 5)\n",
        "\n",
        "  return five_recommendations  \n",
        "\n",
        "  \n",
        "get_5_recommendations(\"A13\")"
      ]
    }
  ],
  "metadata": {
    "colab": {
      "collapsed_sections": [],
      "name": "Recommendation System and Product Categorisation.ipynb",
      "provenance": []
    },
    "kernelspec": {
      "display_name": "Python 3",
      "name": "python3"
    },
    "language_info": {
      "name": "python"
    },
    "widgets": {
      "application/vnd.jupyter.widget-state+json": {
        "27b12a1e8c3440b9aecf2debd3beccbc": {
          "model_module": "@jupyter-widgets/base",
          "model_module_version": "1.2.0",
          "model_name": "LayoutModel",
          "state": {
            "_model_module": "@jupyter-widgets/base",
            "_model_module_version": "1.2.0",
            "_model_name": "LayoutModel",
            "_view_count": null,
            "_view_module": "@jupyter-widgets/base",
            "_view_module_version": "1.2.0",
            "_view_name": "LayoutView",
            "align_content": null,
            "align_items": null,
            "align_self": null,
            "border": null,
            "bottom": null,
            "display": null,
            "flex": null,
            "flex_flow": null,
            "grid_area": null,
            "grid_auto_columns": null,
            "grid_auto_flow": null,
            "grid_auto_rows": null,
            "grid_column": null,
            "grid_gap": null,
            "grid_row": null,
            "grid_template_areas": null,
            "grid_template_columns": null,
            "grid_template_rows": null,
            "height": null,
            "justify_content": null,
            "justify_items": null,
            "left": null,
            "margin": null,
            "max_height": null,
            "max_width": null,
            "min_height": null,
            "min_width": null,
            "object_fit": null,
            "object_position": null,
            "order": null,
            "overflow": null,
            "overflow_x": null,
            "overflow_y": null,
            "padding": null,
            "right": null,
            "top": null,
            "visibility": null,
            "width": null
          }
        },
        "3a97f0a6748140d8867eb624865c54e5": {
          "model_module": "@jupyter-widgets/base",
          "model_module_version": "1.2.0",
          "model_name": "LayoutModel",
          "state": {
            "_model_module": "@jupyter-widgets/base",
            "_model_module_version": "1.2.0",
            "_model_name": "LayoutModel",
            "_view_count": null,
            "_view_module": "@jupyter-widgets/base",
            "_view_module_version": "1.2.0",
            "_view_name": "LayoutView",
            "align_content": null,
            "align_items": null,
            "align_self": null,
            "border": null,
            "bottom": null,
            "display": null,
            "flex": null,
            "flex_flow": null,
            "grid_area": null,
            "grid_auto_columns": null,
            "grid_auto_flow": null,
            "grid_auto_rows": null,
            "grid_column": null,
            "grid_gap": null,
            "grid_row": null,
            "grid_template_areas": null,
            "grid_template_columns": null,
            "grid_template_rows": null,
            "height": null,
            "justify_content": null,
            "justify_items": null,
            "left": null,
            "margin": null,
            "max_height": null,
            "max_width": null,
            "min_height": null,
            "min_width": null,
            "object_fit": null,
            "object_position": null,
            "order": null,
            "overflow": null,
            "overflow_x": null,
            "overflow_y": null,
            "padding": null,
            "right": null,
            "top": null,
            "visibility": null,
            "width": null
          }
        },
        "42491abf10634a8da2ae38423a83b0a2": {
          "model_module": "@jupyter-widgets/base",
          "model_module_version": "1.2.0",
          "model_name": "LayoutModel",
          "state": {
            "_model_module": "@jupyter-widgets/base",
            "_model_module_version": "1.2.0",
            "_model_name": "LayoutModel",
            "_view_count": null,
            "_view_module": "@jupyter-widgets/base",
            "_view_module_version": "1.2.0",
            "_view_name": "LayoutView",
            "align_content": null,
            "align_items": null,
            "align_self": null,
            "border": null,
            "bottom": null,
            "display": null,
            "flex": null,
            "flex_flow": null,
            "grid_area": null,
            "grid_auto_columns": null,
            "grid_auto_flow": null,
            "grid_auto_rows": null,
            "grid_column": null,
            "grid_gap": null,
            "grid_row": null,
            "grid_template_areas": null,
            "grid_template_columns": null,
            "grid_template_rows": null,
            "height": null,
            "justify_content": null,
            "justify_items": null,
            "left": null,
            "margin": null,
            "max_height": null,
            "max_width": null,
            "min_height": null,
            "min_width": null,
            "object_fit": null,
            "object_position": null,
            "order": null,
            "overflow": null,
            "overflow_x": null,
            "overflow_y": null,
            "padding": null,
            "right": null,
            "top": null,
            "visibility": null,
            "width": null
          }
        },
        "47027b18d5e448da9bcf45c923bedd5c": {
          "model_module": "@jupyter-widgets/output",
          "model_module_version": "1.0.0",
          "model_name": "OutputModel",
          "state": {
            "_dom_classes": [],
            "_model_module": "@jupyter-widgets/output",
            "_model_module_version": "1.0.0",
            "_model_name": "OutputModel",
            "_view_count": null,
            "_view_module": "@jupyter-widgets/output",
            "_view_module_version": "1.0.0",
            "_view_name": "OutputView",
            "layout": "IPY_MODEL_3a97f0a6748140d8867eb624865c54e5",
            "msg_id": "",
            "outputs": [
              {
                "data": {
                  "text/html": "<pre style=\"white-space:pre;overflow-x:auto;line-height:normal;font-family:Menlo,'DejaVu Sans Mono',consolas,'Courier New',monospace\">✅  final_product_clust… <span style=\"color: #157f3d; text-decoration-color: #157f3d\">━━━━━━━━━━</span> <span style=\"color: #157f3d; text-decoration-color: #157f3d\">DONE</span> <span style=\"color: #000000; text-decoration-color: #000000\">[</span><span style=\"color: #9b9b9f; text-decoration-color: #9b9b9f\">0:00:09</span><span style=\"color: #000000; text-decoration-color: #000000\">]</span>                                           \n    <span style=\"color: #a1a1a9; text-decoration-color: #a1a1a9; text-decoration: underline\">↳ </span><a href=\"https://app.layer.ai/layer/Recommendation_System_and_Product_Categorisation_Project/datasets/final_product_clusters\"><span style=\"color: #a1a1a9; text-decoration-color: #a1a1a9; text-decoration: underline\">https://app.layer.ai/layer/Recommendation_System_and_Product_Categorisation_Project/da</span></a> \n    <a href=\"https://app.layer.ai/layer/Recommendation_System_and_Product_Categorisation_Project/datasets/final_product_clusters\"><span style=\"color: #a1a1a9; text-decoration-color: #a1a1a9; text-decoration: underline\">tasets/final_product_clusters</span></a>                                                            \n</pre>\n",
                  "text/plain": "✅  final_product_clust… \u001b[38;2;21;127;61m━━━━━━━━━━\u001b[0m \u001b[38;2;21;127;61mDONE\u001b[0m \u001b[39m[\u001b[0m\u001b[38;2;155;155;159m0:00:09\u001b[0m\u001b[39m]\u001b[0m                                           \n    \u001b[4;38;2;161;161;169m↳ \u001b[0m\u001b]8;id=342367;https://app.layer.ai/layer/Recommendation_System_and_Product_Categorisation_Project/datasets/final_product_clusters\u001b\\\u001b[4;38;2;161;161;169mhttps://app.layer.ai/layer/Recommendation_System_and_Product_Categorisation_Project/da\u001b[0m\u001b]8;;\u001b\\ \n    \u001b]8;id=342367;https://app.layer.ai/layer/Recommendation_System_and_Product_Categorisation_Project/datasets/final_product_clusters\u001b\\\u001b[4;38;2;161;161;169mtasets/final_product_clusters\u001b[0m\u001b]8;;\u001b\\                                                            \n"
                },
                "metadata": {},
                "output_type": "display_data"
              }
            ]
          }
        },
        "54b9e9093da14246917d3d50682a7afe": {
          "model_module": "@jupyter-widgets/output",
          "model_module_version": "1.0.0",
          "model_name": "OutputModel",
          "state": {
            "_dom_classes": [],
            "_model_module": "@jupyter-widgets/output",
            "_model_module_version": "1.0.0",
            "_model_name": "OutputModel",
            "_view_count": null,
            "_view_module": "@jupyter-widgets/output",
            "_view_module_version": "1.0.0",
            "_view_name": "OutputView",
            "layout": "IPY_MODEL_42491abf10634a8da2ae38423a83b0a2",
            "msg_id": "",
            "outputs": [
              {
                "data": {
                  "text/html": "<pre style=\"white-space:pre;overflow-x:auto;line-height:normal;font-family:Menlo,'DejaVu Sans Mono',consolas,'Courier New',monospace\">✅  sequential_products  <span style=\"color: #157f3d; text-decoration-color: #157f3d\">━━━━━━━━━━</span> <span style=\"color: #157f3d; text-decoration-color: #157f3d\">DONE</span> <span style=\"color: #000000; text-decoration-color: #000000\">[</span><span style=\"color: #9b9b9f; text-decoration-color: #9b9b9f\">0:00:13</span><span style=\"color: #000000; text-decoration-color: #000000\">]</span>                                           \n    <span style=\"color: #a1a1a9; text-decoration-color: #a1a1a9; text-decoration: underline\">↳ </span><a href=\"https://app.layer.ai/layer/Recommendation_System_and_Product_Categorisation_Project/datasets/sequential_products\"><span style=\"color: #a1a1a9; text-decoration-color: #a1a1a9; text-decoration: underline\">https://app.layer.ai/layer/Recommendation_System_and_Product_Categorisation_Project/da</span></a> \n    <a href=\"https://app.layer.ai/layer/Recommendation_System_and_Product_Categorisation_Project/datasets/sequential_products\"><span style=\"color: #a1a1a9; text-decoration-color: #a1a1a9; text-decoration: underline\">tasets/sequential_products</span></a>                                                               \n</pre>\n",
                  "text/plain": "✅  sequential_products  \u001b[38;2;21;127;61m━━━━━━━━━━\u001b[0m \u001b[38;2;21;127;61mDONE\u001b[0m \u001b[39m[\u001b[0m\u001b[38;2;155;155;159m0:00:13\u001b[0m\u001b[39m]\u001b[0m                                           \n    \u001b[4;38;2;161;161;169m↳ \u001b[0m\u001b]8;id=899435;https://app.layer.ai/layer/Recommendation_System_and_Product_Categorisation_Project/datasets/sequential_products\u001b\\\u001b[4;38;2;161;161;169mhttps://app.layer.ai/layer/Recommendation_System_and_Product_Categorisation_Project/da\u001b[0m\u001b]8;;\u001b\\ \n    \u001b]8;id=899435;https://app.layer.ai/layer/Recommendation_System_and_Product_Categorisation_Project/datasets/sequential_products\u001b\\\u001b[4;38;2;161;161;169mtasets/sequential_products\u001b[0m\u001b]8;;\u001b\\                                                               \n"
                },
                "metadata": {},
                "output_type": "display_data"
              }
            ]
          }
        },
        "6a529bb631054a0b89dea634780d7524": {
          "model_module": "@jupyter-widgets/output",
          "model_module_version": "1.0.0",
          "model_name": "OutputModel",
          "state": {
            "_dom_classes": [],
            "_model_module": "@jupyter-widgets/output",
            "_model_module_version": "1.0.0",
            "_model_name": "OutputModel",
            "_view_count": null,
            "_view_module": "@jupyter-widgets/output",
            "_view_module_version": "1.0.0",
            "_view_name": "OutputView",
            "layout": "IPY_MODEL_e6a359bace9c455e9914d3e6c2b14aa3",
            "msg_id": "",
            "outputs": [
              {
                "data": {
                  "text/html": "<pre style=\"white-space:pre;overflow-x:auto;line-height:normal;font-family:Menlo,'DejaVu Sans Mono',consolas,'Courier New',monospace\">✅  clustering_model     <span style=\"color: #157f3d; text-decoration-color: #157f3d\">━━━━━━━━━━</span> <span style=\"color: #157f3d; text-decoration-color: #157f3d\">DONE</span> <span style=\"color: #000000; text-decoration-color: #000000\">[</span><span style=\"color: #9b9b9f; text-decoration-color: #9b9b9f\">0:00:19</span><span style=\"color: #000000; text-decoration-color: #000000\">]</span>                                           \n    <span style=\"color: #a1a1a9; text-decoration-color: #a1a1a9; text-decoration: underline\">↳ </span><a href=\"https://app.layer.ai/layer/Recommendation_System_and_Product_Categorisation_Project/models/clustering_model?v=1.1\"><span style=\"color: #a1a1a9; text-decoration-color: #a1a1a9; text-decoration: underline\">https://app.layer.ai/layer/Recommendation_System_and_Product_Categorisation_Project/mo</span></a> \n    <a href=\"https://app.layer.ai/layer/Recommendation_System_and_Product_Categorisation_Project/models/clustering_model?v=1.1\"><span style=\"color: #a1a1a9; text-decoration-color: #a1a1a9; text-decoration: underline\">dels/clustering_model?v=1.1</span></a>                                                              \n</pre>\n",
                  "text/plain": "✅  clustering_model     \u001b[38;2;21;127;61m━━━━━━━━━━\u001b[0m \u001b[38;2;21;127;61mDONE\u001b[0m \u001b[39m[\u001b[0m\u001b[38;2;155;155;159m0:00:19\u001b[0m\u001b[39m]\u001b[0m                                           \n    \u001b[4;38;2;161;161;169m↳ \u001b[0m\u001b]8;id=357790;https://app.layer.ai/layer/Recommendation_System_and_Product_Categorisation_Project/models/clustering_model?v=1.1\u001b\\\u001b[4;38;2;161;161;169mhttps://app.layer.ai/layer/Recommendation_System_and_Product_Categorisation_Project/mo\u001b[0m\u001b]8;;\u001b\\ \n    \u001b]8;id=357790;https://app.layer.ai/layer/Recommendation_System_and_Product_Categorisation_Project/models/clustering_model?v=1.1\u001b\\\u001b[4;38;2;161;161;169mdels/clustering_model?v=1.1\u001b[0m\u001b]8;;\u001b\\                                                              \n"
                },
                "metadata": {},
                "output_type": "display_data"
              }
            ]
          }
        },
        "78fcf8f13ef24b49beb27d3f8a183c8a": {
          "model_module": "@jupyter-widgets/output",
          "model_module_version": "1.0.0",
          "model_name": "OutputModel",
          "state": {
            "_dom_classes": [],
            "_model_module": "@jupyter-widgets/output",
            "_model_module_version": "1.0.0",
            "_model_name": "OutputModel",
            "_view_count": null,
            "_view_module": "@jupyter-widgets/output",
            "_view_module_version": "1.0.0",
            "_view_name": "OutputView",
            "layout": "IPY_MODEL_27b12a1e8c3440b9aecf2debd3beccbc",
            "msg_id": "",
            "outputs": [
              {
                "data": {
                  "text/html": "<pre style=\"white-space:pre;overflow-x:auto;line-height:normal;font-family:Menlo,'DejaVu Sans Mono',consolas,'Courier New',monospace\">✅  raw_session_based_c… <span style=\"color: #157f3d; text-decoration-color: #157f3d\">━━━━━━━━━━</span> <span style=\"color: #157f3d; text-decoration-color: #157f3d\">DONE</span> <span style=\"color: #000000; text-decoration-color: #000000\">[</span><span style=\"color: #9b9b9f; text-decoration-color: #9b9b9f\">0:01:36</span><span style=\"color: #000000; text-decoration-color: #000000\">]</span>                                           \n    <span style=\"color: #a1a1a9; text-decoration-color: #a1a1a9; text-decoration: underline\">↳ </span><a href=\"https://app.layer.ai/layer/Recommendation_System_and_Product_Categorisation_Project/datasets/raw_session_based_clickstream_data\"><span style=\"color: #a1a1a9; text-decoration-color: #a1a1a9; text-decoration: underline\">https://app.layer.ai/layer/Recommendation_System_and_Product_Categorisation_Project/da</span></a> \n    <a href=\"https://app.layer.ai/layer/Recommendation_System_and_Product_Categorisation_Project/datasets/raw_session_based_clickstream_data\"><span style=\"color: #a1a1a9; text-decoration-color: #a1a1a9; text-decoration: underline\">tasets/raw_session_based_clickstream_data</span></a>                                                \n</pre>\n",
                  "text/plain": "✅  raw_session_based_c… \u001b[38;2;21;127;61m━━━━━━━━━━\u001b[0m \u001b[38;2;21;127;61mDONE\u001b[0m \u001b[39m[\u001b[0m\u001b[38;2;155;155;159m0:01:36\u001b[0m\u001b[39m]\u001b[0m                                           \n    \u001b[4;38;2;161;161;169m↳ \u001b[0m\u001b]8;id=413418;https://app.layer.ai/layer/Recommendation_System_and_Product_Categorisation_Project/datasets/raw_session_based_clickstream_data\u001b\\\u001b[4;38;2;161;161;169mhttps://app.layer.ai/layer/Recommendation_System_and_Product_Categorisation_Project/da\u001b[0m\u001b]8;;\u001b\\ \n    \u001b]8;id=413418;https://app.layer.ai/layer/Recommendation_System_and_Product_Categorisation_Project/datasets/raw_session_based_clickstream_data\u001b\\\u001b[4;38;2;161;161;169mtasets/raw_session_based_clickstream_data\u001b[0m\u001b]8;;\u001b\\                                                \n"
                },
                "metadata": {},
                "output_type": "display_data"
              }
            ]
          }
        },
        "c2c90a9fa1724baead1ca7d91ba9fdd6": {
          "model_module": "@jupyter-widgets/base",
          "model_module_version": "1.2.0",
          "model_name": "LayoutModel",
          "state": {
            "_model_module": "@jupyter-widgets/base",
            "_model_module_version": "1.2.0",
            "_model_name": "LayoutModel",
            "_view_count": null,
            "_view_module": "@jupyter-widgets/base",
            "_view_module_version": "1.2.0",
            "_view_name": "LayoutView",
            "align_content": null,
            "align_items": null,
            "align_self": null,
            "border": null,
            "bottom": null,
            "display": null,
            "flex": null,
            "flex_flow": null,
            "grid_area": null,
            "grid_auto_columns": null,
            "grid_auto_flow": null,
            "grid_auto_rows": null,
            "grid_column": null,
            "grid_gap": null,
            "grid_row": null,
            "grid_template_areas": null,
            "grid_template_columns": null,
            "grid_template_rows": null,
            "height": null,
            "justify_content": null,
            "justify_items": null,
            "left": null,
            "margin": null,
            "max_height": null,
            "max_width": null,
            "min_height": null,
            "min_width": null,
            "object_fit": null,
            "object_position": null,
            "order": null,
            "overflow": null,
            "overflow_x": null,
            "overflow_y": null,
            "padding": null,
            "right": null,
            "top": null,
            "visibility": null,
            "width": null
          }
        },
        "e6a359bace9c455e9914d3e6c2b14aa3": {
          "model_module": "@jupyter-widgets/base",
          "model_module_version": "1.2.0",
          "model_name": "LayoutModel",
          "state": {
            "_model_module": "@jupyter-widgets/base",
            "_model_module_version": "1.2.0",
            "_model_name": "LayoutModel",
            "_view_count": null,
            "_view_module": "@jupyter-widgets/base",
            "_view_module_version": "1.2.0",
            "_view_name": "LayoutView",
            "align_content": null,
            "align_items": null,
            "align_self": null,
            "border": null,
            "bottom": null,
            "display": null,
            "flex": null,
            "flex_flow": null,
            "grid_area": null,
            "grid_auto_columns": null,
            "grid_auto_flow": null,
            "grid_auto_rows": null,
            "grid_column": null,
            "grid_gap": null,
            "grid_row": null,
            "grid_template_areas": null,
            "grid_template_columns": null,
            "grid_template_rows": null,
            "height": null,
            "justify_content": null,
            "justify_items": null,
            "left": null,
            "margin": null,
            "max_height": null,
            "max_width": null,
            "min_height": null,
            "min_width": null,
            "object_fit": null,
            "object_position": null,
            "order": null,
            "overflow": null,
            "overflow_x": null,
            "overflow_y": null,
            "padding": null,
            "right": null,
            "top": null,
            "visibility": null,
            "width": null
          }
        },
        "ee656c09caa44168ba740643a34151e9": {
          "model_module": "@jupyter-widgets/output",
          "model_module_version": "1.0.0",
          "model_name": "OutputModel",
          "state": {
            "_dom_classes": [],
            "_model_module": "@jupyter-widgets/output",
            "_model_module_version": "1.0.0",
            "_model_name": "OutputModel",
            "_view_count": null,
            "_view_module": "@jupyter-widgets/output",
            "_view_module_version": "1.0.0",
            "_view_name": "OutputView",
            "layout": "IPY_MODEL_c2c90a9fa1724baead1ca7d91ba9fdd6",
            "msg_id": "",
            "outputs": [
              {
                "data": {
                  "text/html": "<pre style=\"white-space:pre;overflow-x:auto;line-height:normal;font-family:Menlo,'DejaVu Sans Mono',consolas,'Courier New',monospace\">✅  product_ids_and_vec… <span style=\"color: #157f3d; text-decoration-color: #157f3d\">━━━━━━━━━━</span> <span style=\"color: #157f3d; text-decoration-color: #157f3d\">DONE</span> <span style=\"color: #000000; text-decoration-color: #000000\">[</span><span style=\"color: #9b9b9f; text-decoration-color: #9b9b9f\">0:00:04</span><span style=\"color: #000000; text-decoration-color: #000000\">]</span>                                           \n    <span style=\"color: #a1a1a9; text-decoration-color: #a1a1a9; text-decoration: underline\">↳ </span><a href=\"https://app.layer.ai/layer/Recommendation_System_and_Product_Categorisation_Project/datasets/product_ids_and_vectors\"><span style=\"color: #a1a1a9; text-decoration-color: #a1a1a9; text-decoration: underline\">https://app.layer.ai/layer/Recommendation_System_and_Product_Categorisation_Project/da</span></a> \n    <a href=\"https://app.layer.ai/layer/Recommendation_System_and_Product_Categorisation_Project/datasets/product_ids_and_vectors\"><span style=\"color: #a1a1a9; text-decoration-color: #a1a1a9; text-decoration: underline\">tasets/product_ids_and_vectors</span></a>                                                           \n</pre>\n",
                  "text/plain": "✅  product_ids_and_vec… \u001b[38;2;21;127;61m━━━━━━━━━━\u001b[0m \u001b[38;2;21;127;61mDONE\u001b[0m \u001b[39m[\u001b[0m\u001b[38;2;155;155;159m0:00:04\u001b[0m\u001b[39m]\u001b[0m                                           \n    \u001b[4;38;2;161;161;169m↳ \u001b[0m\u001b]8;id=530423;https://app.layer.ai/layer/Recommendation_System_and_Product_Categorisation_Project/datasets/product_ids_and_vectors\u001b\\\u001b[4;38;2;161;161;169mhttps://app.layer.ai/layer/Recommendation_System_and_Product_Categorisation_Project/da\u001b[0m\u001b]8;;\u001b\\ \n    \u001b]8;id=530423;https://app.layer.ai/layer/Recommendation_System_and_Product_Categorisation_Project/datasets/product_ids_and_vectors\u001b\\\u001b[4;38;2;161;161;169mtasets/product_ids_and_vectors\u001b[0m\u001b]8;;\u001b\\                                                           \n"
                },
                "metadata": {},
                "output_type": "display_data"
              }
            ]
          }
        }
      }
    }
  },
  "nbformat": 4,
  "nbformat_minor": 0
}
