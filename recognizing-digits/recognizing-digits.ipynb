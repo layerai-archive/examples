{
 "cells": [
  {
   "cell_type": "markdown",
   "id": "WLAqrwJHNyEJ",
   "metadata": {
    "id": "WLAqrwJHNyEJ"
   },
   "source": [
    "# Recognizing digits with Layer\n",
    "\n",
    "[![Open in Layer](https://app.layer.ai/assets/badge.svg)](https://app.layer.ai/layer/recognizing-digits) [![Open in Colab](https://colab.research.google.com/assets/colab-badge.svg)](https://colab.research.google.com/github/layerai/examples/blob/main/recognizing-digits/recognizing-digits.ipynb) [![Layer Examples Github](https://badgen.net/badge/icon/github?icon=github&label)](https://github.com/layerai/examples/tree/main/recognizing-digits)\n"
   ]
  },
  {
   "cell_type": "markdown",
   "source": [
    "In this project, we'll build a model to recognize digits. As part of the project, we'll cover the following: \n",
    "\n",
    "- Saving models in Layer. \n",
    "- Logging the model's accuracy. \n",
    "- Logging images."
   ],
   "metadata": {
    "id": "WBIV7K5l1-VW"
   },
   "id": "WBIV7K5l1-VW"
  },
  {
   "cell_type": "markdown",
   "id": "pzfLqSWG5ylG",
   "metadata": {
    "id": "pzfLqSWG5ylG"
   },
   "source": [
    "## Layer installation\n",
    "\n",
    "Ensure that you are using the latest version of [Layer](https://docs.app.layer.ai/docs/installation). "
   ]
  },
  {
   "cell_type": "code",
   "execution_count": null,
   "id": "42a92be3-9c8d-482e-b84e-ab53f60f621c",
   "metadata": {
    "id": "42a92be3-9c8d-482e-b84e-ab53f60f621c",
    "outputId": "ddd5555f-4ea8-43af-e311-5838308f9841",
    "colab": {
     "base_uri": "https://localhost:8080/"
    },
    "pycharm": {
     "is_executing": true
    }
   },
   "outputs": [],
   "source": [
    "!pip install --upgrade layer -q\n",
    "!pip install -U scikit-learn"
   ]
  },
  {
   "cell_type": "markdown",
   "id": "3v42utb16Fl9",
   "metadata": {
    "id": "3v42utb16Fl9"
   },
   "source": [
    "## Register and Login\n",
    "\n",
    "To start using Layer, you have to register and login. Run the following cell, click the link, register and paste the code in the input"
   ]
  },
  {
   "cell_type": "code",
   "execution_count": null,
   "id": "5b074b9f-eca0-4c30-9b6b-1b181948a4b5",
   "metadata": {
    "id": "5b074b9f-eca0-4c30-9b6b-1b181948a4b5",
    "outputId": "c7bbd2ba-9e7e-4d2f-cc1a-586e852ac5a1",
    "colab": {
     "base_uri": "https://localhost:8080/"
    },
    "pycharm": {
     "is_executing": true
    }
   },
   "outputs": [],
   "source": [
    "import layer\n",
    "layer.login()"
   ]
  },
  {
   "cell_type": "markdown",
   "id": "O_IwRmvBU1TJ",
   "metadata": {
    "id": "O_IwRmvBU1TJ"
   },
   "source": [
    "## Inititialize a  Layer project\n",
    "\n",
    "The next step is to initialize a Layer project. All entities created thereafter will be stored under this project.  "
   ]
  },
  {
   "cell_type": "code",
   "execution_count": null,
   "id": "eLK78Wc7VBZr",
   "metadata": {
    "colab": {
     "base_uri": "https://localhost:8080/"
    },
    "id": "eLK78Wc7VBZr",
    "outputId": "fa175f64-6bf5-4818-d603-bebde155ecec",
    "pycharm": {
     "is_executing": true
    }
   },
   "outputs": [],
   "source": [
    "layer.init(\"recognizing-digits\")"
   ]
  },
  {
   "cell_type": "markdown",
   "id": "HL9bECPb6U4Z",
   "metadata": {
    "id": "HL9bECPb6U4Z"
   },
   "source": [
    "## Train Model\n"
   ]
  },
  {
   "cell_type": "markdown",
   "source": [
    "In this project, we'll load the dataset directly using Sklearn. The next step is to define a model function that returns a [model object](https://docs.app.layer.ai/docs/models/supported-frameworks). \n",
    "\n",
    "Saving the model to Layer is done by adding the [@model](https://docs.app.layer.ai/docs/sdk-library/model-decorator) decorator to the defined function. \n",
    "\n",
    "\n",
    "In this case, we perfoerm the following operations in the model function:\n",
    "\n",
    "- Load the dataset using Sklearn.\n",
    "- Log the digits to Layer using [Matplotlib](https://docs.app.layer.ai/docs/sdk-library/layer-log#charts). \n",
    "- Fit the images to a [Support Vector Machine](https://scikit-learn.org/stable/modules/generated/sklearn.svm.SVC.html) model. \n",
    "- Log the model's accuracy.\n",
    "-Log the model's confusion matrix."
   ],
   "metadata": {
    "id": "5bnMI8Su32mz"
   },
   "id": "5bnMI8Su32mz"
  },
  {
   "cell_type": "code",
   "execution_count": 9,
   "id": "c8816120-2343-49be-93da-3ffbb1d328d1",
   "metadata": {
    "id": "c8816120-2343-49be-93da-3ffbb1d328d1"
   },
   "outputs": [],
   "source": [
    "from layer.decorators import dataset, model,resources\n",
    "@model(\"digit-recognizer\")\n",
    "def train_model():\n",
    "    import matplotlib.pyplot as plt\n",
    "    from sklearn import datasets, svm, metrics\n",
    "    from sklearn.model_selection import train_test_split\n",
    "    import pandas as pd\n",
    "    import numpy as np\n",
    "\n",
    "    digits = datasets.load_digits()\n",
    "\n",
    "    _, axes = plt.subplots(nrows=2, ncols=4, figsize=(10, 10))\n",
    "    for ax, image, label in zip(axes.flat, digits.images, digits.target):\n",
    "        ax.set_axis_off()\n",
    "        ax.imshow(image, cmap=plt.cm.gray_r, interpolation=\"nearest\")\n",
    "        ax.set_title(\"Training: %i\" % label)\n",
    "    \n",
    "    layer.log({\"Training Digits\": plt})\n",
    "    \n",
    "    # flatten the images\n",
    "    n_samples = len(digits.images)\n",
    "    data = digits.images.reshape((n_samples, -1))\n",
    "\n",
    "    # Create a classifier: a support vector classifier\n",
    "    clf = svm.SVC(gamma=0.001)\n",
    "\n",
    "    # Split data into 50% train and 50% test subsets\n",
    "    X_train, X_test, y_train, y_test = train_test_split(\n",
    "        data, digits.target, test_size=0.5, shuffle=False\n",
    "    )\n",
    "\n",
    "    # Learn the digits on the train subset\n",
    "    clf.fit(X_train, y_train)\n",
    "\n",
    "    # Predict the value of the digit on the test subset\n",
    "    predicted = clf.predict(X_test)\n",
    "    \n",
    "    _, axes = plt.subplots(nrows=2, ncols=4, figsize=(10, 10))\n",
    "    for ax, image, prediction in zip(axes.flat, X_test, predicted):\n",
    "        ax.set_axis_off()\n",
    "        image = image.reshape(8, 8)\n",
    "        ax.imshow(image, cmap=plt.cm.gray_r, interpolation=\"nearest\")\n",
    "        ax.set_title(f\"Prediction: {prediction}\")\n",
    "    \n",
    "    layer.log({\"Predictions\": plt})\n",
    "        \n",
    "    prediction_metrics = metrics.classification_report(y_test, predicted,output_dict=True)\n",
    "    layer.log({\"Accuracy\": prediction_metrics['accuracy']})\n",
    "\n",
    "    disp = metrics.ConfusionMatrixDisplay.from_predictions(y_test, predicted)\n",
    "    disp.figure_.suptitle(\"Confusion Matrix\")\n",
    "    layer.log({\"Confusion Matrix Plot\": disp.figure_})\n",
    "\n",
    "    return clf"
   ]
  },
  {
   "cell_type": "markdown",
   "source": [
    "You can run the model training function in two ways: \n",
    "\n",
    "- On Layer infra by passing the function to the `layer.run` command.\n",
    "- Locally by calling the function normally. \n",
    "\n",
    "Running the function locally utilizes your local compute but saves and versions the resulting model to Layer. Executing the model on Layer is useful when dealing with large data and models. "
   ],
   "metadata": {
    "id": "JZWCKklD5cG8"
   },
   "id": "JZWCKklD5cG8"
  },
  {
   "cell_type": "code",
   "source": [
    "train_model()"
   ],
   "metadata": {
    "id": "xOfUPMG-3Rkt",
    "outputId": "9c9c292a-48c2-45e0-808b-9320027ad569",
    "colab": {
     "base_uri": "https://localhost:8080/",
     "height": 1000,
     "referenced_widgets": [
      "05a5309113b34d40a563af885d5c8171",
      "c7476b6cf3304e0d900f766ffb66f3bd"
     ]
    },
    "pycharm": {
     "is_executing": true
    }
   },
   "id": "xOfUPMG-3Rkt",
   "execution_count": null,
   "outputs": []
  },
  {
   "cell_type": "markdown",
   "source": [
    "Once the model trains successfully, Layer will print a link to the model. Clicking the link will show you all the logged entities, including; images, primitives and charts. "
   ],
   "metadata": {
    "id": "wo90eKCQ6KBO"
   },
   "id": "wo90eKCQ6KBO"
  },
  {
   "cell_type": "markdown",
   "id": "Z8ZnD8htas_-",
   "metadata": {
    "id": "Z8ZnD8htas_-",
    "pycharm": {
     "name": "#%% md\n"
    }
   },
   "source": [
    "## Where to go from here?\n",
    "\n",
    "Now that you have created this project, you can:\n",
    "\n",
    "- Join our [Slack Community ](https://bit.ly/layercommunityslack)\n",
    "- Visit [Layer Examples Repo](https://github.com/layerai/examples) for more examples\n",
    "- Browse [Trending Layer Projects](https://layer.ai) on our mainpage\n",
    "- Check out [Layer Documentation](https://docs.layer.ai) to learn more"
   ]
  }
 ],
 "metadata": {
  "colab": {
   "collapsed_sections": [],
   "name": "Copy of Quickstart",
   "provenance": []
  },
  "kernelspec": {
   "display_name": "Python 3 (ipykernel)",
   "language": "python",
   "name": "python3"
  },
  "language_info": {
   "codemirror_mode": {
    "name": "ipython",
    "version": 3
   },
   "file_extension": ".py",
   "mimetype": "text/x-python",
   "name": "python",
   "nbconvert_exporter": "python",
   "pygments_lexer": "ipython3",
   "version": "3.8.5"
  },
  "widgets": {
   "application/vnd.jupyter.widget-state+json": {
    "05a5309113b34d40a563af885d5c8171": {
     "model_module": "@jupyter-widgets/output",
     "model_name": "OutputModel",
     "model_module_version": "1.0.0",
     "state": {
      "_dom_classes": [],
      "_model_module": "@jupyter-widgets/output",
      "_model_module_version": "1.0.0",
      "_model_name": "OutputModel",
      "_view_count": null,
      "_view_module": "@jupyter-widgets/output",
      "_view_module_version": "1.0.0",
      "_view_name": "OutputView",
      "layout": "IPY_MODEL_c7476b6cf3304e0d900f766ffb66f3bd",
      "msg_id": "",
      "outputs": [
       {
        "output_type": "display_data",
        "data": {
         "text/plain": "✅  digit-recognizer     \u001B[38;2;52;211;153m━━━━━━━━━━━━━━━━━━━━━━\u001B[0m \u001B[38;2;52;211;153m        done         \u001B[0m \u001B[39m[ \u001B[0m\u001B[33m0:00:12\u001B[0m\u001B[39m ]\u001B[0m \n    \u001B]8;id=736785;https://app.layer.ai/layer/recognizing-digits/models/digit-recognizer\u001B\\\u001B[4;38;2;161;161;169mhttps://app.layer.ai/layer/recognizing-digits/models/digit-recognizer\u001B[0m\u001B]8;;\u001B\\         \n",
         "text/html": "<pre style=\"white-space:pre;overflow-x:auto;line-height:normal;font-family:Menlo,'DejaVu Sans Mono',consolas,'Courier New',monospace\">✅  digit-recognizer     <span style=\"color: #34d399; text-decoration-color: #34d399\">━━━━━━━━━━━━━━━━━━━━━━</span> <span style=\"color: #34d399; text-decoration-color: #34d399\">        done         </span> <span style=\"color: #000000; text-decoration-color: #000000\">[ </span><span style=\"color: #808000; text-decoration-color: #808000\">0:00:12</span><span style=\"color: #000000; text-decoration-color: #000000\"> ]</span> \n    <a href=\"https://app.layer.ai/layer/recognizing-digits/models/digit-recognizer\"><span style=\"color: #a1a1a9; text-decoration-color: #a1a1a9; text-decoration: underline\">https://app.layer.ai/layer/recognizing-digits/models/digit-recognizer</span></a>         \n</pre>\n"
        },
        "metadata": {}
       }
      ]
     }
    },
    "c7476b6cf3304e0d900f766ffb66f3bd": {
     "model_module": "@jupyter-widgets/base",
     "model_name": "LayoutModel",
     "model_module_version": "1.2.0",
     "state": {
      "_model_module": "@jupyter-widgets/base",
      "_model_module_version": "1.2.0",
      "_model_name": "LayoutModel",
      "_view_count": null,
      "_view_module": "@jupyter-widgets/base",
      "_view_module_version": "1.2.0",
      "_view_name": "LayoutView",
      "align_content": null,
      "align_items": null,
      "align_self": null,
      "border": null,
      "bottom": null,
      "display": null,
      "flex": null,
      "flex_flow": null,
      "grid_area": null,
      "grid_auto_columns": null,
      "grid_auto_flow": null,
      "grid_auto_rows": null,
      "grid_column": null,
      "grid_gap": null,
      "grid_row": null,
      "grid_template_areas": null,
      "grid_template_columns": null,
      "grid_template_rows": null,
      "height": null,
      "justify_content": null,
      "justify_items": null,
      "left": null,
      "margin": null,
      "max_height": null,
      "max_width": null,
      "min_height": null,
      "min_width": null,
      "object_fit": null,
      "object_position": null,
      "order": null,
      "overflow": null,
      "overflow_x": null,
      "overflow_y": null,
      "padding": null,
      "right": null,
      "top": null,
      "visibility": null,
      "width": null
     }
    }
   }
  }
 },
 "nbformat": 4,
 "nbformat_minor": 5
}