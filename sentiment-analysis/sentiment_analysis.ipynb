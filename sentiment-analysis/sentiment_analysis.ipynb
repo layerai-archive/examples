{
 "cells": [
  {
   "cell_type": "markdown",
   "source": [
    "# Train sentiment analysis model with Layer\n",
    "\n",
    "[![Open in Layer](https://development.layer.co/assets/badge.svg)](https://development.layer.co/layer/sentiment-analysis) [![Open in Colab](https://colab.research.google.com/assets/colab-badge.svg)](https://colab.research.google.com/github/layerai/examples/blob/main/sentiment-analysis/sentiment_analysis.ipynb) [![Layer Examples Github](https://badgen.net/badge/icon/github?icon=github&label)](https://github.com/layerai/examples/tree/main/sentiment-analysis)"
   ],
   "metadata": {
    "id": "HZ0SQ-QPBlg4"
   }
  },
  {
   "cell_type": "markdown",
   "source": [
    "In this project we train sentiment analysis model using Recurrent Neural Networks in TensorFlow."
   ],
   "metadata": {
    "collapsed": false
   }
  },
  {
   "cell_type": "code",
   "execution_count": null,
   "metadata": {
    "id": "qctZxIGnnqGL"
   },
   "outputs": [],
   "source": [
    "!pip install layer --upgrade"
   ]
  },
  {
   "cell_type": "code",
   "execution_count": null,
   "metadata": {
    "id": "77hk5E1expde"
   },
   "outputs": [],
   "source": [
    "!pip install -U ipython"
   ]
  },
  {
   "cell_type": "code",
   "execution_count": null,
   "metadata": {
    "colab": {
     "base_uri": "https://localhost:8080/"
    },
    "id": "h0Yqmp77nqGN",
    "outputId": "c9e15036-0a2b-4a99-e654-8771884c77ab"
   },
   "outputs": [
    {
     "output_type": "stream",
     "name": "stdout",
     "text": [
      "Layer, version 0.9.340226\n"
     ]
    }
   ],
   "source": [
    "!layer --version"
   ]
  },
  {
   "cell_type": "code",
   "execution_count": null,
   "metadata": {
    "id": "6mkUlBZhn5rG"
   },
   "outputs": [],
   "source": [
    "import os\n",
    "# Obtain from https://www.kaggle.com/username/account\n",
    "os.environ[\"KAGGLE_USERNAME\"]=\"KAGGLE_USERNAME\"\n",
    "os.environ[\"KAGGLE_KEY\"]=\"KAGGLE_KEY\""
   ]
  },
  {
   "cell_type": "code",
   "execution_count": null,
   "metadata": {
    "id": "t1Nzze3Con3L"
   },
   "outputs": [],
   "source": [
    "import kaggle"
   ]
  },
  {
   "cell_type": "code",
   "execution_count": null,
   "metadata": {
    "colab": {
     "base_uri": "https://localhost:8080/"
    },
    "id": "i4-J4OZXo1xK",
    "outputId": "a563f92b-a8ac-441b-f749-18cfbdb17d50",
    "pycharm": {
     "is_executing": true
    }
   },
   "outputs": [],
   "source": [
    "!kaggle datasets download lakshmi25npathi/imdb-dataset-of-50k-movie-reviews"
   ]
  },
  {
   "cell_type": "code",
   "execution_count": null,
   "metadata": {
    "id": "sj-yinCephNz"
   },
   "outputs": [],
   "source": [
    "import zipfile\n",
    "with zipfile.ZipFile('imdb-dataset-of-50k-movie-reviews.zip', 'r') as zip_ref:\n",
    "    zip_ref.extractall('imdb-dataset-of-50k-movie-reviews')"
   ]
  },
  {
   "cell_type": "code",
   "execution_count": null,
   "metadata": {
    "colab": {
     "base_uri": "https://localhost:8080/"
    },
    "id": "wfShKDNVnqGN",
    "outputId": "1c2e4b1f-22e8-4eb3-f4a0-e8a27ac49c96",
    "pycharm": {
     "is_executing": true
    }
   },
   "outputs": [],
   "source": [
    "import layer\n",
    "layer.login()"
   ]
  },
  {
   "cell_type": "code",
   "execution_count": null,
   "metadata": {
    "colab": {
     "base_uri": "https://localhost:8080/"
    },
    "id": "3iWjIV8_nqGN",
    "outputId": "aa1bc9fc-71ac-461e-acff-f3f1f4bff948",
    "pycharm": {
     "is_executing": true
    }
   },
   "outputs": [],
   "source": [
    "# ++ init Layer\n",
    "layer.init(\"sentiment-analysis\")"
   ]
  },
  {
   "cell_type": "code",
   "execution_count": null,
   "metadata": {
    "id": "SmHS3SZznqGO"
   },
   "outputs": [],
   "source": [
    "from layer.decorators.assertions import assert_true, assert_valid_values, assert_not_null, assert_unique\n",
    "from layer.decorators import dataset, model,resources, fabric, pip_requirements\n",
    "from layer.client import Dataset"
   ]
  },
  {
   "cell_type": "code",
   "execution_count": null,
   "metadata": {
    "id": "aWN-v8BgnqGO"
   },
   "outputs": [],
   "source": [
    "# This Python 3 environment comes with many helpful analytics libraries installed\n",
    "# It is defined by the kaggle/python Docker image: https://github.com/kaggle/docker-python\n",
    "# For example, here's several helpful packages to load\n",
    "import numpy as np # linear algebra\n",
    "import pandas as pd # data processing, CSV file I/O (e.g. pd.read_csv)\n",
    "from numpy import array\n",
    "import tensorflow as tf\n",
    "from sklearn.model_selection import train_test_split \n",
    "from sklearn.preprocessing import LabelEncoder\n",
    "import matplotlib.pyplot as plt\n",
    "# Input data files are available in the read-only \"../input/\" directory\n",
    "# For example, running this (by clicking run or pressing Shift+Enter) will list all files under the input directory\n"
   ]
  },
  {
   "cell_type": "code",
   "execution_count": null,
   "metadata": {
    "id": "F1bUl9J5nqGO"
   },
   "outputs": [],
   "source": [
    "data_file = 'imdb-dataset-of-50k-movie-reviews/IMDB Dataset.csv'"
   ]
  },
  {
   "cell_type": "code",
   "execution_count": null,
   "metadata": {
    "id": "qWHER-9OqgQx"
   },
   "outputs": [],
   "source": [
    "test = pd.read_csv(data_file)"
   ]
  },
  {
   "cell_type": "code",
   "execution_count": null,
   "metadata": {
    "colab": {
     "base_uri": "https://localhost:8080/",
     "height": 206
    },
    "id": "hdVjjLB6r4SG",
    "outputId": "04954275-e66a-47ca-850a-dd4bb6295b58"
   },
   "outputs": [
    {
     "output_type": "execute_result",
     "data": {
      "text/plain": [
       "                                              review sentiment\n",
       "0  One of the other reviewers has mentioned that ...  positive\n",
       "1  A wonderful little production. <br /><br />The...  positive\n",
       "2  I thought this was a wonderful way to spend ti...  positive\n",
       "3  Basically there's a family where a little boy ...  negative\n",
       "4  Petter Mattei's \"Love in the Time of Money\" is...  positive"
      ],
      "text/html": [
       "\n",
       "  <div id=\"df-9780efc5-0352-40d8-97a5-639a5ae5e988\">\n",
       "    <div class=\"colab-df-container\">\n",
       "      <div>\n",
       "<style scoped>\n",
       "    .dataframe tbody tr th:only-of-type {\n",
       "        vertical-align: middle;\n",
       "    }\n",
       "\n",
       "    .dataframe tbody tr th {\n",
       "        vertical-align: top;\n",
       "    }\n",
       "\n",
       "    .dataframe thead th {\n",
       "        text-align: right;\n",
       "    }\n",
       "</style>\n",
       "<table border=\"1\" class=\"dataframe\">\n",
       "  <thead>\n",
       "    <tr style=\"text-align: right;\">\n",
       "      <th></th>\n",
       "      <th>review</th>\n",
       "      <th>sentiment</th>\n",
       "    </tr>\n",
       "  </thead>\n",
       "  <tbody>\n",
       "    <tr>\n",
       "      <th>0</th>\n",
       "      <td>One of the other reviewers has mentioned that ...</td>\n",
       "      <td>positive</td>\n",
       "    </tr>\n",
       "    <tr>\n",
       "      <th>1</th>\n",
       "      <td>A wonderful little production. &lt;br /&gt;&lt;br /&gt;The...</td>\n",
       "      <td>positive</td>\n",
       "    </tr>\n",
       "    <tr>\n",
       "      <th>2</th>\n",
       "      <td>I thought this was a wonderful way to spend ti...</td>\n",
       "      <td>positive</td>\n",
       "    </tr>\n",
       "    <tr>\n",
       "      <th>3</th>\n",
       "      <td>Basically there's a family where a little boy ...</td>\n",
       "      <td>negative</td>\n",
       "    </tr>\n",
       "    <tr>\n",
       "      <th>4</th>\n",
       "      <td>Petter Mattei's \"Love in the Time of Money\" is...</td>\n",
       "      <td>positive</td>\n",
       "    </tr>\n",
       "  </tbody>\n",
       "</table>\n",
       "</div>\n",
       "      <button class=\"colab-df-convert\" onclick=\"convertToInteractive('df-9780efc5-0352-40d8-97a5-639a5ae5e988')\"\n",
       "              title=\"Convert this dataframe to an interactive table.\"\n",
       "              style=\"display:none;\">\n",
       "        \n",
       "  <svg xmlns=\"http://www.w3.org/2000/svg\" height=\"24px\"viewBox=\"0 0 24 24\"\n",
       "       width=\"24px\">\n",
       "    <path d=\"M0 0h24v24H0V0z\" fill=\"none\"/>\n",
       "    <path d=\"M18.56 5.44l.94 2.06.94-2.06 2.06-.94-2.06-.94-.94-2.06-.94 2.06-2.06.94zm-11 1L8.5 8.5l.94-2.06 2.06-.94-2.06-.94L8.5 2.5l-.94 2.06-2.06.94zm10 10l.94 2.06.94-2.06 2.06-.94-2.06-.94-.94-2.06-.94 2.06-2.06.94z\"/><path d=\"M17.41 7.96l-1.37-1.37c-.4-.4-.92-.59-1.43-.59-.52 0-1.04.2-1.43.59L10.3 9.45l-7.72 7.72c-.78.78-.78 2.05 0 2.83L4 21.41c.39.39.9.59 1.41.59.51 0 1.02-.2 1.41-.59l7.78-7.78 2.81-2.81c.8-.78.8-2.07 0-2.86zM5.41 20L4 18.59l7.72-7.72 1.47 1.35L5.41 20z\"/>\n",
       "  </svg>\n",
       "      </button>\n",
       "      \n",
       "  <style>\n",
       "    .colab-df-container {\n",
       "      display:flex;\n",
       "      flex-wrap:wrap;\n",
       "      gap: 12px;\n",
       "    }\n",
       "\n",
       "    .colab-df-convert {\n",
       "      background-color: #E8F0FE;\n",
       "      border: none;\n",
       "      border-radius: 50%;\n",
       "      cursor: pointer;\n",
       "      display: none;\n",
       "      fill: #1967D2;\n",
       "      height: 32px;\n",
       "      padding: 0 0 0 0;\n",
       "      width: 32px;\n",
       "    }\n",
       "\n",
       "    .colab-df-convert:hover {\n",
       "      background-color: #E2EBFA;\n",
       "      box-shadow: 0px 1px 2px rgba(60, 64, 67, 0.3), 0px 1px 3px 1px rgba(60, 64, 67, 0.15);\n",
       "      fill: #174EA6;\n",
       "    }\n",
       "\n",
       "    [theme=dark] .colab-df-convert {\n",
       "      background-color: #3B4455;\n",
       "      fill: #D2E3FC;\n",
       "    }\n",
       "\n",
       "    [theme=dark] .colab-df-convert:hover {\n",
       "      background-color: #434B5C;\n",
       "      box-shadow: 0px 1px 3px 1px rgba(0, 0, 0, 0.15);\n",
       "      filter: drop-shadow(0px 1px 2px rgba(0, 0, 0, 0.3));\n",
       "      fill: #FFFFFF;\n",
       "    }\n",
       "  </style>\n",
       "\n",
       "      <script>\n",
       "        const buttonEl =\n",
       "          document.querySelector('#df-9780efc5-0352-40d8-97a5-639a5ae5e988 button.colab-df-convert');\n",
       "        buttonEl.style.display =\n",
       "          google.colab.kernel.accessAllowed ? 'block' : 'none';\n",
       "\n",
       "        async function convertToInteractive(key) {\n",
       "          const element = document.querySelector('#df-9780efc5-0352-40d8-97a5-639a5ae5e988');\n",
       "          const dataTable =\n",
       "            await google.colab.kernel.invokeFunction('convertToInteractive',\n",
       "                                                     [key], {});\n",
       "          if (!dataTable) return;\n",
       "\n",
       "          const docLinkHtml = 'Like what you see? Visit the ' +\n",
       "            '<a target=\"_blank\" href=https://colab.research.google.com/notebooks/data_table.ipynb>data table notebook</a>'\n",
       "            + ' to learn more about interactive tables.';\n",
       "          element.innerHTML = '';\n",
       "          dataTable['output_type'] = 'display_data';\n",
       "          await google.colab.output.renderOutput(dataTable, element);\n",
       "          const docLink = document.createElement('div');\n",
       "          docLink.innerHTML = docLinkHtml;\n",
       "          element.appendChild(docLink);\n",
       "        }\n",
       "      </script>\n",
       "    </div>\n",
       "  </div>\n",
       "  "
      ]
     },
     "metadata": {},
     "execution_count": 14
    }
   ],
   "source": [
    "test.head()"
   ]
  },
  {
   "cell_type": "code",
   "execution_count": null,
   "metadata": {
    "id": "_lS3tHpSnqGP"
   },
   "outputs": [],
   "source": [
    "@dataset('imdb-dataset-of-50k-movie-reviews')\n",
    "@resources(data_file)\n",
    "def read_movies():\n",
    "    df = pd.read_csv(data_file) \n",
    "    return df"
   ]
  },
  {
   "cell_type": "code",
   "execution_count": null,
   "metadata": {
    "colab": {
     "base_uri": "https://localhost:8080/",
     "height": 86,
     "referenced_widgets": [
      "d2a3f8f1b51343d8840d247e43936ccd",
      "82ac21505a3a47088bdff44f309d9069"
     ]
    },
    "id": "KqLtygS4nqGP",
    "outputId": "f60ae900-ebb2-436b-b2af-4c6fac682626"
   },
   "outputs": [
    {
     "output_type": "display_data",
     "data": {
      "text/plain": [
       "Output()"
      ],
      "application/vnd.jupyter.widget-view+json": {
       "version_major": 2,
       "version_minor": 0,
       "model_id": "d2a3f8f1b51343d8840d247e43936ccd"
      }
     },
     "metadata": {}
    },
    {
     "output_type": "execute_result",
     "data": {
      "text/plain": [
       "Run(project_name='sentiment-analysis')"
      ]
     },
     "metadata": {},
     "execution_count": 16
    }
   ],
   "source": [
    "# Read and save the reviews using Layer infra\n",
    "layer.run([read_movies])"
   ]
  },
  {
   "cell_type": "code",
   "execution_count": null,
   "metadata": {
    "id": "1Z6w9F_pnqGP"
   },
   "outputs": [],
   "source": [
    "def remove_stop_words(review):\n",
    "    import nltk\n",
    "    from nltk.corpus import stopwords\n",
    "    nltk.download('stopwords')\n",
    "    nltk.data.path.append(\".\")\n",
    "    review_minus_sw = []\n",
    "    stop_words = stopwords.words('english')\n",
    "    review = review.split()\n",
    "    cleaned_review = [review_minus_sw.append(word) for word in review if word not in stop_words]            \n",
    "    cleaned_review = ' '.join(review_minus_sw)\n",
    "    return cleaned_review       "
   ]
  },
  {
   "cell_type": "code",
   "execution_count": null,
   "metadata": {
    "id": "0RwSpNHknqGQ"
   },
   "outputs": [],
   "source": [
    "@dataset('clean_imdb-dataset-of-50k-movie-reviews')\n",
    "@pip_requirements(packages=[\"nltk\",\"scikit-learn\"])\n",
    "def clean_reviews():\n",
    "    dataset = layer.get_dataset('layer/sentiment-analysis/datasets/imdb-dataset-of-50k-movie-reviews').to_pandas()\n",
    "    dataset['review'] = dataset['review'].apply(remove_stop_words)\n",
    "    labelencoder = LabelEncoder()\n",
    "    df = dataset.assign(sentiment = labelencoder.fit_transform(dataset[\"sentiment\"]))\n",
    "    return df"
   ]
  },
  {
   "cell_type": "code",
   "execution_count": null,
   "metadata": {
    "colab": {
     "base_uri": "https://localhost:8080/",
     "height": 86,
     "referenced_widgets": [
      "aac10c6490c0405080ea1f06b37f1c26",
      "8ce6854d2cad4854ae6e30327778710a"
     ]
    },
    "id": "Ots1Ix90nqGQ",
    "outputId": "a2924584-e964-4d97-ea1d-cb197ad6e3d6"
   },
   "outputs": [
    {
     "output_type": "display_data",
     "data": {
      "text/plain": [
       "Output()"
      ],
      "application/vnd.jupyter.widget-view+json": {
       "version_major": 2,
       "version_minor": 0,
       "model_id": "aac10c6490c0405080ea1f06b37f1c26"
      }
     },
     "metadata": {}
    },
    {
     "output_type": "execute_result",
     "data": {
      "text/plain": [
       "Run(project_name='sentiment-analysis')"
      ]
     },
     "metadata": {},
     "execution_count": 19
    }
   ],
   "source": [
    "# Read and save the reviews using Layer infra\n",
    "layer.run([clean_reviews])"
   ]
  },
  {
   "cell_type": "code",
   "execution_count": null,
   "outputs": [],
   "source": [
    "@fabric(\"f-medium\")\n",
    "@pip_requirements(packages=[\"tensorflow\",\"keras\"])\n",
    "@model(name='imdb_data_tokenizer')\n",
    "def save_tokenizer():\n",
    "  from numpy import array\n",
    "  from tensorflow.keras.preprocessing.text import Tokenizer\n",
    "  from sklearn.model_selection import train_test_split\n",
    "\n",
    "  df = layer.get_dataset('layer/sentiment-analysis/datasets/clean_imdb-dataset-of-50k-movie-reviews').to_pandas()\n",
    "  docs = df['review']\n",
    "  labels = array(df['sentiment'])\n",
    "  X_train, X_test , y_train, y_test = train_test_split(docs, labels , test_size = 0.20, random_state=0)\n",
    "  oov_token = \"<OOV>\"\n",
    "  tokenizer = Tokenizer(oov_token=oov_token)\n",
    "  tokenizer.fit_on_texts(X_train)\n",
    "  return tokenizer"
   ],
   "metadata": {
    "collapsed": false,
    "pycharm": {
     "name": "#%%\n"
    }
   }
  },
  {
   "cell_type": "code",
   "execution_count": null,
   "outputs": [],
   "source": [
    "layer.run([save_tokenizer])"
   ],
   "metadata": {
    "collapsed": false,
    "pycharm": {
     "name": "#%%\n"
    }
   }
  },
  {
   "cell_type": "code",
   "execution_count": null,
   "metadata": {
    "id": "ShbHanlvnqGQ"
   },
   "outputs": [],
   "source": [
    "# # Run the clean_reviews function locally and save the output to Layer infra\n",
    "# nltk.download('stopwords')\n",
    "# reviews = clean_reviews()"
   ]
  },
  {
   "cell_type": "code",
   "execution_count": null,
   "metadata": {
    "id": "Lkswznb0nqGQ"
   },
   "outputs": [],
   "source": [
    "# reviews.head()"
   ]
  },
  {
   "cell_type": "code",
   "execution_count": null,
   "metadata": {
    "id": "KM8PLRz8nqGQ"
   },
   "outputs": [],
   "source": [
    "@fabric(\"f-gpu-small\")\n",
    "@pip_requirements(packages=[\"tensorflow\",\"keras\"])\n",
    "@model(name='tensorflow-sentiment-analysis')\n",
    "def train():\n",
    "    from tensorflow.keras.preprocessing.text import Tokenizer\n",
    "    from tensorflow.keras.preprocessing.sequence import pad_sequences\n",
    "    from tensorflow.keras.models import Sequential\n",
    "    from tensorflow.keras.layers import Dense,Embedding, LSTM, Bidirectional\n",
    "    from tensorflow.keras.layers import Flatten\n",
    "    from tensorflow.keras.layers import Embedding\n",
    "\n",
    "    df = layer.get_dataset('layer/sentiment-analysis/datasets/clean_imdb-dataset-of-50k-movie-reviews').to_pandas()\n",
    "    docs = df['review']\n",
    "    labels = array(df['sentiment'])\n",
    "    X_train, X_test , y_train, y_test = train_test_split(docs, labels , test_size = 0.20, random_state=0)\n",
    "    tokenizer = layer.get_model('layer/sentiment-analysis/models/imdb_data_tokenizer').get_train()\n",
    "    word_index = tokenizer.word_index\n",
    "    X_train_sequences = tokenizer.texts_to_sequences(X_train)\n",
    "    X_test_sequences = tokenizer.texts_to_sequences(X_test)\n",
    "    padding_type = \"post\"\n",
    "    truncation_type=\"post\"\n",
    "    max_length = 512\n",
    "    X_train_padded = pad_sequences(X_train_sequences,maxlen=max_length, padding=padding_type,\n",
    "                       truncating=truncation_type)\n",
    "    X_test_padded = pad_sequences(X_test_sequences,maxlen=max_length, padding=padding_type,\n",
    "                              truncating=truncation_type)\n",
    "    tf.random.set_seed(0)\n",
    "    training_data = tf.data.Dataset.from_tensor_slices((X_train_padded, y_train))\n",
    "    validation_data = tf.data.Dataset.from_tensor_slices((X_test_padded, y_test))\n",
    "    batch_size = 32\n",
    "    training_data = training_data.batch(batch_size)\n",
    "    validation_data = validation_data.batch(batch_size)\n",
    "    callback = tf.keras.callbacks.EarlyStopping(monitor='loss', patience=3)\n",
    "    epochs=1\n",
    "    vocab_size = len(tokenizer.word_index) + 1\n",
    "    input_length = 512\n",
    "    model = Sequential([\n",
    "    Embedding(vocab_size, 64, input_length=input_length),\n",
    "    Bidirectional(LSTM(64, return_sequences=True)),\n",
    "    Bidirectional(LSTM(64,)),\n",
    "    Dense(32, activation='relu'),\n",
    "    Dense(1, activation='sigmoid')])\n",
    "\n",
    "    model.compile(optimizer='adam', loss='binary_crossentropy', metrics=['acc'])\n",
    "    model.fit(training_data, epochs=epochs, verbose=1,validation_data = validation_data, callbacks = [callback])\n",
    "    loss, accuracy = model.evaluate(training_data, verbose=1)\n",
    "    layer.log({\"accuracy\":accuracy})\n",
    "    print('Training Accuracy is {}'.format(accuracy*100))\n",
    "    layer.log({\"loss\":loss})\n",
    "    loss, accuracy = model.evaluate(validation_data)\n",
    "    layer.log({\"validation_accuracy\":accuracy})\n",
    "    layer.log({\"validation_loss\":loss})\n",
    "    print('Testing Accuracy is {} '.format(accuracy*100))\n",
    "    return model"
   ]
  },
  {
   "cell_type": "code",
   "execution_count": null,
   "metadata": {
    "id": "bOugcNULnqGR",
    "colab": {
     "base_uri": "https://localhost:8080/",
     "height": 481,
     "referenced_widgets": [
      "42016a37b0ca4695a370cbad46a10e6f",
      "8dcb0d1f1dd547bc80497693b0068ce6"
     ]
    },
    "outputId": "9f42aa8b-2ed8-4e51-f4ea-a2546dc96567",
    "pycharm": {
     "is_executing": true
    }
   },
   "outputs": [],
   "source": [
    "# Train on Layer infra\n",
    "layer.run([train])"
   ]
  },
  {
   "cell_type": "code",
   "execution_count": null,
   "metadata": {
    "colab": {
     "base_uri": "https://localhost:8080/",
     "height": 303,
     "referenced_widgets": [
      "0c3cdad2e2204037a73840afe9fcea2a",
      "af65b26b2d414197abe016514a92c361"
     ]
    },
    "id": "1JyIwFsInqGR",
    "outputId": "09764f17-5e6c-4e7a-f4e3-36b8d853cfe9",
    "pycharm": {
     "name": "#%%\n",
     "is_executing": true
    }
   },
   "outputs": [],
   "source": [
    "# Train on your own infra\n",
    "train()"
   ]
  },
  {
   "cell_type": "code",
   "execution_count": null,
   "outputs": [],
   "source": [
    "from tensorflow.keras.preprocessing.sequence import pad_sequences\n",
    "from numpy import array\n",
    "import numpy as np\n",
    "import layer\n",
    "review = \"That was such a horrible movie, I hated it.\"\n",
    "tokenizer = layer.get_model('layer/sentiment-analysis/models/imdb_data_tokenizer').get_train()\n",
    "model = layer.get_model('layer/sentiment-analysis/models/tensorflow-sentiment-analysis')\n",
    "classifier = model.get_train()\n",
    "word_index = tokenizer.word_index\n",
    "X_test_sequences = tokenizer.texts_to_sequences(review)\n",
    "padding_type = \"post\"\n",
    "truncation_type=\"post\"\n",
    "max_length = 512\n",
    "X_test_padded = pad_sequences(X_test_sequences,maxlen=max_length, padding=padding_type,\n",
    "                          truncating=truncation_type)\n",
    "test_data = np.expand_dims(X_test_padded[0], axis=0)\n",
    "prediction = classifier.predict(test_data)\n",
    "if prediction[0][0]>0.5:\n",
    "  print(\"Is positive\")\n",
    "else:\n",
    "   print(\"Is negative\")"
   ],
   "metadata": {
    "collapsed": false,
    "pycharm": {
     "name": "#%%\n"
    }
   }
  }
 ],
 "metadata": {
  "accelerator": "GPU",
  "colab": {
   "name": "sentiment-analysis.ipynb",
   "provenance": [],
   "collapsed_sections": []
  },
  "kernelspec": {
   "display_name": "Python 3",
   "language": "python",
   "name": "python3"
  },
  "language_info": {
   "codemirror_mode": {
    "name": "ipython",
    "version": 3
   },
   "file_extension": ".py",
   "mimetype": "text/x-python",
   "name": "python",
   "nbconvert_exporter": "python",
   "pygments_lexer": "ipython3",
   "version": "3.7.12"
  },
  "widgets": {
   "application/vnd.jupyter.widget-state+json": {
    "0c3cdad2e2204037a73840afe9fcea2a": {
     "model_module": "@jupyter-widgets/output",
     "model_name": "OutputModel",
     "model_module_version": "1.0.0",
     "state": {
      "_dom_classes": [],
      "_model_module": "@jupyter-widgets/output",
      "_model_module_version": "1.0.0",
      "_model_name": "OutputModel",
      "_view_count": null,
      "_view_module": "@jupyter-widgets/output",
      "_view_module_version": "1.0.0",
      "_view_name": "OutputView",
      "layout": "IPY_MODEL_af65b26b2d414197abe016514a92c361",
      "msg_id": "",
      "outputs": [
       {
        "output_type": "display_data",
        "data": {
         "text/plain": "✅  tensorflow-sentimen… \u001B[38;2;52;211;153m━━━━━━━━━━━━━━━━━━━━━━\u001B[0m \u001B[38;2;52;211;153m        done        \u001B[0m \u001B[39m[ \u001B[0m\u001B[33m0:15:19\u001B[0m\u001B[39m ]\u001B[0m             \n    \u001B]8;id=583870;https://development.layer.co/layer/sentiment-analysis/models/tensorflow-sentiment-analysis\u001B\\\u001B[4;38;2;161;161;169mhttps://development.layer.co/layer/sentiment-analysis/models/tensorflow-sentiment-analys\u001B[0m\u001B]8;;\u001B\\ \n    \u001B]8;id=583870;https://development.layer.co/layer/sentiment-analysis/models/tensorflow-sentiment-analysis\u001B\\\u001B[4;38;2;161;161;169mis\u001B[0m\u001B]8;;\u001B\\                                                                                       \n",
         "text/html": "<pre style=\"white-space:pre;overflow-x:auto;line-height:normal;font-family:Menlo,'DejaVu Sans Mono',consolas,'Courier New',monospace\">✅  tensorflow-sentimen… <span style=\"color: #34d399; text-decoration-color: #34d399\">━━━━━━━━━━━━━━━━━━━━━━</span> <span style=\"color: #34d399; text-decoration-color: #34d399\">        done        </span> <span style=\"color: #000000; text-decoration-color: #000000\">[ </span><span style=\"color: #808000; text-decoration-color: #808000\">0:15:19</span><span style=\"color: #000000; text-decoration-color: #000000\"> ]</span>             \n    <a href=\"https://development.layer.co/layer/sentiment-analysis/models/tensorflow-sentiment-analysis\"><span style=\"color: #a1a1a9; text-decoration-color: #a1a1a9; text-decoration: underline\">https://development.layer.co/layer/sentiment-analysis/models/tensorflow-sentiment-analys</span></a> \n    <a href=\"https://development.layer.co/layer/sentiment-analysis/models/tensorflow-sentiment-analysis\"><span style=\"color: #a1a1a9; text-decoration-color: #a1a1a9; text-decoration: underline\">is</span></a>                                                                                       \n</pre>\n"
        },
        "metadata": {}
       }
      ]
     }
    },
    "af65b26b2d414197abe016514a92c361": {
     "model_module": "@jupyter-widgets/base",
     "model_name": "LayoutModel",
     "model_module_version": "1.2.0",
     "state": {
      "_model_module": "@jupyter-widgets/base",
      "_model_module_version": "1.2.0",
      "_model_name": "LayoutModel",
      "_view_count": null,
      "_view_module": "@jupyter-widgets/base",
      "_view_module_version": "1.2.0",
      "_view_name": "LayoutView",
      "align_content": null,
      "align_items": null,
      "align_self": null,
      "border": null,
      "bottom": null,
      "display": null,
      "flex": null,
      "flex_flow": null,
      "grid_area": null,
      "grid_auto_columns": null,
      "grid_auto_flow": null,
      "grid_auto_rows": null,
      "grid_column": null,
      "grid_gap": null,
      "grid_row": null,
      "grid_template_areas": null,
      "grid_template_columns": null,
      "grid_template_rows": null,
      "height": null,
      "justify_content": null,
      "justify_items": null,
      "left": null,
      "margin": null,
      "max_height": null,
      "max_width": null,
      "min_height": null,
      "min_width": null,
      "object_fit": null,
      "object_position": null,
      "order": null,
      "overflow": null,
      "overflow_x": null,
      "overflow_y": null,
      "padding": null,
      "right": null,
      "top": null,
      "visibility": null,
      "width": null
     }
    },
    "d2a3f8f1b51343d8840d247e43936ccd": {
     "model_module": "@jupyter-widgets/output",
     "model_name": "OutputModel",
     "model_module_version": "1.0.0",
     "state": {
      "_dom_classes": [],
      "_model_module": "@jupyter-widgets/output",
      "_model_module_version": "1.0.0",
      "_model_name": "OutputModel",
      "_view_count": null,
      "_view_module": "@jupyter-widgets/output",
      "_view_module_version": "1.0.0",
      "_view_name": "OutputView",
      "layout": "IPY_MODEL_82ac21505a3a47088bdff44f309d9069",
      "msg_id": "",
      "outputs": [
       {
        "output_type": "display_data",
        "data": {
         "text/plain": "✅  imdb-dataset-of-50k… \u001B[38;2;52;211;153m━━━━━━━━━━━━━━━━━━━━━━\u001B[0m \u001B[38;2;52;211;153m        done        \u001B[0m \u001B[39m[ \u001B[0m\u001B[33m0:00:32\u001B[0m\u001B[39m ]\u001B[0m             \n    \u001B]8;id=44164;https://development.layer.co/layer/sentiment-analysis/datasets/imdb-dataset-of-50k-movie-reviews\u001B\\\u001B[4;38;2;161;161;169mhttps://development.layer.co/layer/sentiment-analysis/datasets/imdb-dataset-of-50k-movie\u001B[0m\u001B]8;;\u001B\\ \n    \u001B]8;id=44164;https://development.layer.co/layer/sentiment-analysis/datasets/imdb-dataset-of-50k-movie-reviews\u001B\\\u001B[4;38;2;161;161;169m-reviews\u001B[0m\u001B]8;;\u001B\\                                                                                 \n",
         "text/html": "<pre style=\"white-space:pre;overflow-x:auto;line-height:normal;font-family:Menlo,'DejaVu Sans Mono',consolas,'Courier New',monospace\">✅  imdb-dataset-of-50k… <span style=\"color: #34d399; text-decoration-color: #34d399\">━━━━━━━━━━━━━━━━━━━━━━</span> <span style=\"color: #34d399; text-decoration-color: #34d399\">        done        </span> <span style=\"color: #000000; text-decoration-color: #000000\">[ </span><span style=\"color: #808000; text-decoration-color: #808000\">0:00:32</span><span style=\"color: #000000; text-decoration-color: #000000\"> ]</span>             \n    <a href=\"https://development.layer.co/layer/sentiment-analysis/datasets/imdb-dataset-of-50k-movie-reviews\"><span style=\"color: #a1a1a9; text-decoration-color: #a1a1a9; text-decoration: underline\">https://development.layer.co/layer/sentiment-analysis/datasets/imdb-dataset-of-50k-movie</span></a> \n    <a href=\"https://development.layer.co/layer/sentiment-analysis/datasets/imdb-dataset-of-50k-movie-reviews\"><span style=\"color: #a1a1a9; text-decoration-color: #a1a1a9; text-decoration: underline\">-reviews</span></a>                                                                                 \n</pre>\n"
        },
        "metadata": {}
       }
      ]
     }
    },
    "82ac21505a3a47088bdff44f309d9069": {
     "model_module": "@jupyter-widgets/base",
     "model_name": "LayoutModel",
     "model_module_version": "1.2.0",
     "state": {
      "_model_module": "@jupyter-widgets/base",
      "_model_module_version": "1.2.0",
      "_model_name": "LayoutModel",
      "_view_count": null,
      "_view_module": "@jupyter-widgets/base",
      "_view_module_version": "1.2.0",
      "_view_name": "LayoutView",
      "align_content": null,
      "align_items": null,
      "align_self": null,
      "border": null,
      "bottom": null,
      "display": null,
      "flex": null,
      "flex_flow": null,
      "grid_area": null,
      "grid_auto_columns": null,
      "grid_auto_flow": null,
      "grid_auto_rows": null,
      "grid_column": null,
      "grid_gap": null,
      "grid_row": null,
      "grid_template_areas": null,
      "grid_template_columns": null,
      "grid_template_rows": null,
      "height": null,
      "justify_content": null,
      "justify_items": null,
      "left": null,
      "margin": null,
      "max_height": null,
      "max_width": null,
      "min_height": null,
      "min_width": null,
      "object_fit": null,
      "object_position": null,
      "order": null,
      "overflow": null,
      "overflow_x": null,
      "overflow_y": null,
      "padding": null,
      "right": null,
      "top": null,
      "visibility": null,
      "width": null
     }
    },
    "aac10c6490c0405080ea1f06b37f1c26": {
     "model_module": "@jupyter-widgets/output",
     "model_name": "OutputModel",
     "model_module_version": "1.0.0",
     "state": {
      "_dom_classes": [],
      "_model_module": "@jupyter-widgets/output",
      "_model_module_version": "1.0.0",
      "_model_name": "OutputModel",
      "_view_count": null,
      "_view_module": "@jupyter-widgets/output",
      "_view_module_version": "1.0.0",
      "_view_name": "OutputView",
      "layout": "IPY_MODEL_8ce6854d2cad4854ae6e30327778710a",
      "msg_id": "",
      "outputs": [
       {
        "output_type": "display_data",
        "data": {
         "text/plain": "✅  clean_imdb-dataset-… \u001B[38;2;52;211;153m━━━━━━━━━━━━━━━━━━━━━━\u001B[0m \u001B[38;2;52;211;153m        done        \u001B[0m \u001B[39m[ \u001B[0m\u001B[33m0:01:13\u001B[0m\u001B[39m ]\u001B[0m             \n    \u001B]8;id=700465;https://development.layer.co/layer/sentiment-analysis/datasets/clean_imdb-dataset-of-50k-movie-reviews\u001B\\\u001B[4;38;2;161;161;169mhttps://development.layer.co/layer/sentiment-analysis/datasets/clean_imdb-dataset-of-50k\u001B[0m\u001B]8;;\u001B\\ \n    \u001B]8;id=700465;https://development.layer.co/layer/sentiment-analysis/datasets/clean_imdb-dataset-of-50k-movie-reviews\u001B\\\u001B[4;38;2;161;161;169m-movie-reviews\u001B[0m\u001B]8;;\u001B\\                                                                           \n",
         "text/html": "<pre style=\"white-space:pre;overflow-x:auto;line-height:normal;font-family:Menlo,'DejaVu Sans Mono',consolas,'Courier New',monospace\">✅  clean_imdb-dataset-… <span style=\"color: #34d399; text-decoration-color: #34d399\">━━━━━━━━━━━━━━━━━━━━━━</span> <span style=\"color: #34d399; text-decoration-color: #34d399\">        done        </span> <span style=\"color: #000000; text-decoration-color: #000000\">[ </span><span style=\"color: #808000; text-decoration-color: #808000\">0:01:13</span><span style=\"color: #000000; text-decoration-color: #000000\"> ]</span>             \n    <a href=\"https://development.layer.co/layer/sentiment-analysis/datasets/clean_imdb-dataset-of-50k-movie-reviews\"><span style=\"color: #a1a1a9; text-decoration-color: #a1a1a9; text-decoration: underline\">https://development.layer.co/layer/sentiment-analysis/datasets/clean_imdb-dataset-of-50k</span></a> \n    <a href=\"https://development.layer.co/layer/sentiment-analysis/datasets/clean_imdb-dataset-of-50k-movie-reviews\"><span style=\"color: #a1a1a9; text-decoration-color: #a1a1a9; text-decoration: underline\">-movie-reviews</span></a>                                                                           \n</pre>\n"
        },
        "metadata": {}
       }
      ]
     }
    },
    "8ce6854d2cad4854ae6e30327778710a": {
     "model_module": "@jupyter-widgets/base",
     "model_name": "LayoutModel",
     "model_module_version": "1.2.0",
     "state": {
      "_model_module": "@jupyter-widgets/base",
      "_model_module_version": "1.2.0",
      "_model_name": "LayoutModel",
      "_view_count": null,
      "_view_module": "@jupyter-widgets/base",
      "_view_module_version": "1.2.0",
      "_view_name": "LayoutView",
      "align_content": null,
      "align_items": null,
      "align_self": null,
      "border": null,
      "bottom": null,
      "display": null,
      "flex": null,
      "flex_flow": null,
      "grid_area": null,
      "grid_auto_columns": null,
      "grid_auto_flow": null,
      "grid_auto_rows": null,
      "grid_column": null,
      "grid_gap": null,
      "grid_row": null,
      "grid_template_areas": null,
      "grid_template_columns": null,
      "grid_template_rows": null,
      "height": null,
      "justify_content": null,
      "justify_items": null,
      "left": null,
      "margin": null,
      "max_height": null,
      "max_width": null,
      "min_height": null,
      "min_width": null,
      "object_fit": null,
      "object_position": null,
      "order": null,
      "overflow": null,
      "overflow_x": null,
      "overflow_y": null,
      "padding": null,
      "right": null,
      "top": null,
      "visibility": null,
      "width": null
     }
    },
    "42016a37b0ca4695a370cbad46a10e6f": {
     "model_module": "@jupyter-widgets/output",
     "model_name": "OutputModel",
     "model_module_version": "1.0.0",
     "state": {
      "_dom_classes": [],
      "_model_module": "@jupyter-widgets/output",
      "_model_module_version": "1.0.0",
      "_model_name": "OutputModel",
      "_view_count": null,
      "_view_module": "@jupyter-widgets/output",
      "_view_module_version": "1.0.0",
      "_view_name": "OutputView",
      "layout": "IPY_MODEL_8dcb0d1f1dd547bc80497693b0068ce6",
      "msg_id": "",
      "outputs": [
       {
        "output_type": "display_data",
        "data": {
         "text/plain": "✅  tensorflow-sentimen… \u001B[38;2;52;211;153m━━━━━━━━━━━━━━━━━━━━━━\u001B[0m \u001B[38;2;52;211;153m        done        \u001B[0m \u001B[39m[ \u001B[0m\u001B[33m0:38:33\u001B[0m\u001B[39m ]\u001B[0m             \n    \u001B]8;id=256939;https://development.layer.co/layer/sentiment-analysis/models/tensorflow-sentiment-analysis\u001B\\\u001B[4;38;2;161;161;169mhttps://development.layer.co/layer/sentiment-analysis/models/tensorflow-sentiment-analys\u001B[0m\u001B]8;;\u001B\\ \n    \u001B]8;id=256939;https://development.layer.co/layer/sentiment-analysis/models/tensorflow-sentiment-analysis\u001B\\\u001B[4;38;2;161;161;169mis\u001B[0m\u001B]8;;\u001B\\                                                                                       \n",
         "text/html": "<pre style=\"white-space:pre;overflow-x:auto;line-height:normal;font-family:Menlo,'DejaVu Sans Mono',consolas,'Courier New',monospace\">✅  tensorflow-sentimen… <span style=\"color: #34d399; text-decoration-color: #34d399\">━━━━━━━━━━━━━━━━━━━━━━</span> <span style=\"color: #34d399; text-decoration-color: #34d399\">        done        </span> <span style=\"color: #000000; text-decoration-color: #000000\">[ </span><span style=\"color: #808000; text-decoration-color: #808000\">0:38:33</span><span style=\"color: #000000; text-decoration-color: #000000\"> ]</span>             \n    <a href=\"https://development.layer.co/layer/sentiment-analysis/models/tensorflow-sentiment-analysis\"><span style=\"color: #a1a1a9; text-decoration-color: #a1a1a9; text-decoration: underline\">https://development.layer.co/layer/sentiment-analysis/models/tensorflow-sentiment-analys</span></a> \n    <a href=\"https://development.layer.co/layer/sentiment-analysis/models/tensorflow-sentiment-analysis\"><span style=\"color: #a1a1a9; text-decoration-color: #a1a1a9; text-decoration: underline\">is</span></a>                                                                                       \n</pre>\n"
        },
        "metadata": {}
       }
      ]
     }
    },
    "8dcb0d1f1dd547bc80497693b0068ce6": {
     "model_module": "@jupyter-widgets/base",
     "model_name": "LayoutModel",
     "model_module_version": "1.2.0",
     "state": {
      "_model_module": "@jupyter-widgets/base",
      "_model_module_version": "1.2.0",
      "_model_name": "LayoutModel",
      "_view_count": null,
      "_view_module": "@jupyter-widgets/base",
      "_view_module_version": "1.2.0",
      "_view_name": "LayoutView",
      "align_content": null,
      "align_items": null,
      "align_self": null,
      "border": null,
      "bottom": null,
      "display": null,
      "flex": null,
      "flex_flow": null,
      "grid_area": null,
      "grid_auto_columns": null,
      "grid_auto_flow": null,
      "grid_auto_rows": null,
      "grid_column": null,
      "grid_gap": null,
      "grid_row": null,
      "grid_template_areas": null,
      "grid_template_columns": null,
      "grid_template_rows": null,
      "height": null,
      "justify_content": null,
      "justify_items": null,
      "left": null,
      "margin": null,
      "max_height": null,
      "max_width": null,
      "min_height": null,
      "min_width": null,
      "object_fit": null,
      "object_position": null,
      "order": null,
      "overflow": null,
      "overflow_x": null,
      "overflow_y": null,
      "padding": null,
      "right": null,
      "top": null,
      "visibility": null,
      "width": null
     }
    }
   }
  }
 },
 "nbformat": 4,
 "nbformat_minor": 0
}